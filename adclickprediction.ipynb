{
 "cells": [
  {
   "cell_type": "code",
   "execution_count": null,
   "metadata": {},
   "outputs": [],
   "source": [
    "\n",
    "# The aim this project is to test and find the best algorithm for the ad click prediction dataset. This is an classification problem \n",
    "# different algorithms will be tested and evaluated to find the best on. Clustering will also be implemented to create customer segmentention \n",
    "# groups. \n",
    "#The dataset is available at https://www.kaggle.com/datasets/natchananprabhong/online-ad-click-prediction-dataset?select=adsclicking.csv"
   ]
  },
  {
   "cell_type": "code",
   "execution_count": 1,
   "metadata": {},
   "outputs": [],
   "source": [
    "import pandas as pd\n",
    "\n",
    "\n",
    "import numpy as np\n",
    "\n",
    "df = pd.read_csv(r\"C:\\Users\\ioust\\Desktop\\ml\\adsclicking.csv\")"
   ]
  },
  {
   "cell_type": "code",
   "execution_count": 2,
   "metadata": {},
   "outputs": [],
   "source": [
    "#The column was dropped beacuse it is a simple index and not an attribute.\n",
    "\n",
    "df= df.drop(columns=['Unnamed: 0'])\n"
   ]
  },
  {
   "cell_type": "code",
   "execution_count": 3,
   "metadata": {},
   "outputs": [
    {
     "data": {
      "text/plain": [
       "(2000, 9)"
      ]
     },
     "execution_count": 3,
     "metadata": {},
     "output_type": "execute_result"
    }
   ],
   "source": [
    "# The dataset has 2000 instances and 9 attributes the last one is the class.\n",
    "\n",
    "df.shape"
   ]
  },
  {
   "cell_type": "code",
   "execution_count": 4,
   "metadata": {},
   "outputs": [
    {
     "data": {
      "text/plain": [
       "Age                         int64\n",
       "Gender                     object\n",
       "Income                      int64\n",
       "Location                   object\n",
       "Device                     object\n",
       "Interest_Category          object\n",
       "Time_Spent_on_Site        float64\n",
       "Number_of_Pages_Viewed      int64\n",
       "Click                       int64\n",
       "dtype: object"
      ]
     },
     "execution_count": 4,
     "metadata": {},
     "output_type": "execute_result"
    }
   ],
   "source": [
    "#We have 4 catecorical atrributes (Gender, Location,Device,Interest category). The rest are numeric attributes and the target/class (click)\n",
    "# that is also numeric.\n",
    "\n",
    "df.dtypes"
   ]
  },
  {
   "cell_type": "code",
   "execution_count": 251,
   "metadata": {},
   "outputs": [
    {
     "data": {
      "text/html": [
       "<div>\n",
       "<style scoped>\n",
       "    .dataframe tbody tr th:only-of-type {\n",
       "        vertical-align: middle;\n",
       "    }\n",
       "\n",
       "    .dataframe tbody tr th {\n",
       "        vertical-align: top;\n",
       "    }\n",
       "\n",
       "    .dataframe thead th {\n",
       "        text-align: right;\n",
       "    }\n",
       "</style>\n",
       "<table border=\"1\" class=\"dataframe\">\n",
       "  <thead>\n",
       "    <tr style=\"text-align: right;\">\n",
       "      <th></th>\n",
       "      <th>Age</th>\n",
       "      <th>Gender</th>\n",
       "      <th>Income</th>\n",
       "      <th>Location</th>\n",
       "      <th>Device</th>\n",
       "      <th>Interest_Category</th>\n",
       "      <th>Time_Spent_on_Site</th>\n",
       "      <th>Number_of_Pages_Viewed</th>\n",
       "      <th>Click</th>\n",
       "    </tr>\n",
       "  </thead>\n",
       "  <tbody>\n",
       "    <tr>\n",
       "      <th>0</th>\n",
       "      <td>False</td>\n",
       "      <td>False</td>\n",
       "      <td>False</td>\n",
       "      <td>False</td>\n",
       "      <td>False</td>\n",
       "      <td>False</td>\n",
       "      <td>False</td>\n",
       "      <td>False</td>\n",
       "      <td>False</td>\n",
       "    </tr>\n",
       "    <tr>\n",
       "      <th>1</th>\n",
       "      <td>False</td>\n",
       "      <td>False</td>\n",
       "      <td>False</td>\n",
       "      <td>False</td>\n",
       "      <td>False</td>\n",
       "      <td>False</td>\n",
       "      <td>False</td>\n",
       "      <td>False</td>\n",
       "      <td>False</td>\n",
       "    </tr>\n",
       "    <tr>\n",
       "      <th>2</th>\n",
       "      <td>False</td>\n",
       "      <td>False</td>\n",
       "      <td>False</td>\n",
       "      <td>False</td>\n",
       "      <td>False</td>\n",
       "      <td>False</td>\n",
       "      <td>False</td>\n",
       "      <td>False</td>\n",
       "      <td>False</td>\n",
       "    </tr>\n",
       "    <tr>\n",
       "      <th>3</th>\n",
       "      <td>False</td>\n",
       "      <td>False</td>\n",
       "      <td>False</td>\n",
       "      <td>False</td>\n",
       "      <td>False</td>\n",
       "      <td>False</td>\n",
       "      <td>False</td>\n",
       "      <td>False</td>\n",
       "      <td>False</td>\n",
       "    </tr>\n",
       "    <tr>\n",
       "      <th>4</th>\n",
       "      <td>False</td>\n",
       "      <td>False</td>\n",
       "      <td>False</td>\n",
       "      <td>False</td>\n",
       "      <td>False</td>\n",
       "      <td>False</td>\n",
       "      <td>False</td>\n",
       "      <td>False</td>\n",
       "      <td>False</td>\n",
       "    </tr>\n",
       "    <tr>\n",
       "      <th>...</th>\n",
       "      <td>...</td>\n",
       "      <td>...</td>\n",
       "      <td>...</td>\n",
       "      <td>...</td>\n",
       "      <td>...</td>\n",
       "      <td>...</td>\n",
       "      <td>...</td>\n",
       "      <td>...</td>\n",
       "      <td>...</td>\n",
       "    </tr>\n",
       "    <tr>\n",
       "      <th>1995</th>\n",
       "      <td>False</td>\n",
       "      <td>False</td>\n",
       "      <td>False</td>\n",
       "      <td>False</td>\n",
       "      <td>False</td>\n",
       "      <td>False</td>\n",
       "      <td>False</td>\n",
       "      <td>False</td>\n",
       "      <td>False</td>\n",
       "    </tr>\n",
       "    <tr>\n",
       "      <th>1996</th>\n",
       "      <td>False</td>\n",
       "      <td>False</td>\n",
       "      <td>False</td>\n",
       "      <td>False</td>\n",
       "      <td>False</td>\n",
       "      <td>False</td>\n",
       "      <td>False</td>\n",
       "      <td>False</td>\n",
       "      <td>False</td>\n",
       "    </tr>\n",
       "    <tr>\n",
       "      <th>1997</th>\n",
       "      <td>False</td>\n",
       "      <td>False</td>\n",
       "      <td>False</td>\n",
       "      <td>False</td>\n",
       "      <td>False</td>\n",
       "      <td>False</td>\n",
       "      <td>False</td>\n",
       "      <td>False</td>\n",
       "      <td>False</td>\n",
       "    </tr>\n",
       "    <tr>\n",
       "      <th>1998</th>\n",
       "      <td>False</td>\n",
       "      <td>False</td>\n",
       "      <td>False</td>\n",
       "      <td>False</td>\n",
       "      <td>False</td>\n",
       "      <td>False</td>\n",
       "      <td>False</td>\n",
       "      <td>False</td>\n",
       "      <td>False</td>\n",
       "    </tr>\n",
       "    <tr>\n",
       "      <th>1999</th>\n",
       "      <td>False</td>\n",
       "      <td>False</td>\n",
       "      <td>False</td>\n",
       "      <td>False</td>\n",
       "      <td>False</td>\n",
       "      <td>False</td>\n",
       "      <td>False</td>\n",
       "      <td>False</td>\n",
       "      <td>False</td>\n",
       "    </tr>\n",
       "  </tbody>\n",
       "</table>\n",
       "<p>2000 rows × 9 columns</p>\n",
       "</div>"
      ],
      "text/plain": [
       "        Age  Gender  Income  Location  Device  Interest_Category  \\\n",
       "0     False   False   False     False   False              False   \n",
       "1     False   False   False     False   False              False   \n",
       "2     False   False   False     False   False              False   \n",
       "3     False   False   False     False   False              False   \n",
       "4     False   False   False     False   False              False   \n",
       "...     ...     ...     ...       ...     ...                ...   \n",
       "1995  False   False   False     False   False              False   \n",
       "1996  False   False   False     False   False              False   \n",
       "1997  False   False   False     False   False              False   \n",
       "1998  False   False   False     False   False              False   \n",
       "1999  False   False   False     False   False              False   \n",
       "\n",
       "      Time_Spent_on_Site  Number_of_Pages_Viewed  Click  \n",
       "0                  False                   False  False  \n",
       "1                  False                   False  False  \n",
       "2                  False                   False  False  \n",
       "3                  False                   False  False  \n",
       "4                  False                   False  False  \n",
       "...                  ...                     ...    ...  \n",
       "1995               False                   False  False  \n",
       "1996               False                   False  False  \n",
       "1997               False                   False  False  \n",
       "1998               False                   False  False  \n",
       "1999               False                   False  False  \n",
       "\n",
       "[2000 rows x 9 columns]"
      ]
     },
     "execution_count": 251,
     "metadata": {},
     "output_type": "execute_result"
    }
   ],
   "source": [
    "# In this dataset there is no null values.\n",
    "df.isnull()"
   ]
  },
  {
   "cell_type": "code",
   "execution_count": 7,
   "metadata": {},
   "outputs": [
    {
     "data": {
      "text/html": [
       "<div>\n",
       "<style scoped>\n",
       "    .dataframe tbody tr th:only-of-type {\n",
       "        vertical-align: middle;\n",
       "    }\n",
       "\n",
       "    .dataframe tbody tr th {\n",
       "        vertical-align: top;\n",
       "    }\n",
       "\n",
       "    .dataframe thead th {\n",
       "        text-align: right;\n",
       "    }\n",
       "</style>\n",
       "<table border=\"1\" class=\"dataframe\">\n",
       "  <thead>\n",
       "    <tr style=\"text-align: right;\">\n",
       "      <th></th>\n",
       "      <th>Age</th>\n",
       "      <th>Income</th>\n",
       "      <th>Time_Spent_on_Site</th>\n",
       "      <th>Number_of_Pages_Viewed</th>\n",
       "      <th>Click</th>\n",
       "    </tr>\n",
       "  </thead>\n",
       "  <tbody>\n",
       "    <tr>\n",
       "      <th>count</th>\n",
       "      <td>2000.00000</td>\n",
       "      <td>2000.000000</td>\n",
       "      <td>2000.000000</td>\n",
       "      <td>2000.000000</td>\n",
       "      <td>2000.000000</td>\n",
       "    </tr>\n",
       "    <tr>\n",
       "      <th>mean</th>\n",
       "      <td>41.31650</td>\n",
       "      <td>59652.978500</td>\n",
       "      <td>61.113314</td>\n",
       "      <td>10.321500</td>\n",
       "      <td>0.497000</td>\n",
       "    </tr>\n",
       "    <tr>\n",
       "      <th>std</th>\n",
       "      <td>13.46566</td>\n",
       "      <td>23070.443915</td>\n",
       "      <td>32.518823</td>\n",
       "      <td>5.476507</td>\n",
       "      <td>0.500116</td>\n",
       "    </tr>\n",
       "    <tr>\n",
       "      <th>min</th>\n",
       "      <td>18.00000</td>\n",
       "      <td>20112.000000</td>\n",
       "      <td>5.006075</td>\n",
       "      <td>1.000000</td>\n",
       "      <td>0.000000</td>\n",
       "    </tr>\n",
       "    <tr>\n",
       "      <th>25%</th>\n",
       "      <td>30.00000</td>\n",
       "      <td>39873.750000</td>\n",
       "      <td>33.947635</td>\n",
       "      <td>6.000000</td>\n",
       "      <td>0.000000</td>\n",
       "    </tr>\n",
       "    <tr>\n",
       "      <th>50%</th>\n",
       "      <td>42.00000</td>\n",
       "      <td>59050.500000</td>\n",
       "      <td>60.378894</td>\n",
       "      <td>10.000000</td>\n",
       "      <td>0.000000</td>\n",
       "    </tr>\n",
       "    <tr>\n",
       "      <th>75%</th>\n",
       "      <td>53.00000</td>\n",
       "      <td>79547.000000</td>\n",
       "      <td>88.321464</td>\n",
       "      <td>15.000000</td>\n",
       "      <td>1.000000</td>\n",
       "    </tr>\n",
       "    <tr>\n",
       "      <th>max</th>\n",
       "      <td>64.00000</td>\n",
       "      <td>99943.000000</td>\n",
       "      <td>119.840992</td>\n",
       "      <td>19.000000</td>\n",
       "      <td>1.000000</td>\n",
       "    </tr>\n",
       "  </tbody>\n",
       "</table>\n",
       "</div>"
      ],
      "text/plain": [
       "              Age        Income  Time_Spent_on_Site  Number_of_Pages_Viewed  \\\n",
       "count  2000.00000   2000.000000         2000.000000             2000.000000   \n",
       "mean     41.31650  59652.978500           61.113314               10.321500   \n",
       "std      13.46566  23070.443915           32.518823                5.476507   \n",
       "min      18.00000  20112.000000            5.006075                1.000000   \n",
       "25%      30.00000  39873.750000           33.947635                6.000000   \n",
       "50%      42.00000  59050.500000           60.378894               10.000000   \n",
       "75%      53.00000  79547.000000           88.321464               15.000000   \n",
       "max      64.00000  99943.000000          119.840992               19.000000   \n",
       "\n",
       "             Click  \n",
       "count  2000.000000  \n",
       "mean      0.497000  \n",
       "std       0.500116  \n",
       "min       0.000000  \n",
       "25%       0.000000  \n",
       "50%       0.000000  \n",
       "75%       1.000000  \n",
       "max       1.000000  "
      ]
     },
     "execution_count": 7,
     "metadata": {},
     "output_type": "execute_result"
    }
   ],
   "source": [
    "#From the descriptive statistics we see that the min age is 18 and max 64 years old.The min income is 20112 and the max 99943.\n",
    "#  The min time spend in site is 5 minutes and the max 119 minutes.The min pages on the site viewed is 1 and the max 19. \n",
    "\n",
    "df.describe()"
   ]
  },
  {
   "cell_type": "code",
   "execution_count": 8,
   "metadata": {},
   "outputs": [
    {
     "data": {
      "text/plain": [
       "Click\n",
       "0    1006\n",
       "1     994\n",
       "dtype: int64"
      ]
     },
     "execution_count": 8,
     "metadata": {},
     "output_type": "execute_result"
    }
   ],
   "source": [
    "# The target attribute is balanced 1006 peple do not click on the advertisement and 994 people click on the advertisement.\n",
    "\n",
    "df.groupby('Click').size()"
   ]
  },
  {
   "cell_type": "code",
   "execution_count": 9,
   "metadata": {},
   "outputs": [
    {
     "data": {
      "text/plain": [
       "Gender\n",
       "Female    1014\n",
       "Male       986\n",
       "dtype: int64"
      ]
     },
     "execution_count": 9,
     "metadata": {},
     "output_type": "execute_result"
    }
   ],
   "source": [
    "# The gender is also balanced 1014 female and 986 male.\n",
    "\n",
    "df.groupby('Gender').size()"
   ]
  },
  {
   "cell_type": "code",
   "execution_count": 6,
   "metadata": {},
   "outputs": [
    {
     "data": {
      "image/png": "[encoded data removed]",
      "text/plain": [
       "<Figure size 800x600 with 1 Axes>"
      ]
     },
     "metadata": {},
     "output_type": "display_data"
    }
   ],
   "source": [
    "import matplotlib.pyplot as plt\n",
    "grouped_data = df.groupby('Gender').size()\n",
    "\n",
    "df.groupby('Gender').size()\n",
    "plt.figure(figsize=(8, 6))\n",
    "grouped_data.plot(kind='bar', color='skyblue')\n",
    "plt.title('gender')\n",
    "plt.xlabel('gender')\n",
    "plt.ylabel('Count')\n",
    "plt.xticks(rotation=45)\n",
    "plt.grid(axis='y', linestyle='--', alpha=0.7)\n",
    "plt.tight_layout()\n",
    "\n",
    "\n",
    "plt.show()\n",
    "\n"
   ]
  },
  {
   "cell_type": "code",
   "execution_count": 10,
   "metadata": {},
   "outputs": [
    {
     "data": {
      "image/png": "[encoded data removed]",
      "text/plain": [
       "<Figure size 800x600 with 1 Axes>"
      ]
     },
     "metadata": {},
     "output_type": "display_data"
    }
   ],
   "source": [
    "#This diagram shows the 3 types of location, the most instances are in the Suburban. We can say that the data is balanced.\n",
    "\n",
    "import matplotlib.pyplot as plt\n",
    "grouped_data = df.groupby('Location').size()\n",
    "\n",
    "df.groupby('Gender').size()\n",
    "plt.figure(figsize=(8, 6))\n",
    "grouped_data.plot(kind='bar', color='skyblue')\n",
    "plt.title('Location')\n",
    "plt.xlabel('location')\n",
    "plt.ylabel('Count')\n",
    "plt.xticks(rotation=45)\n",
    "plt.grid(axis='y', linestyle='--', alpha=0.7)\n",
    "plt.tight_layout()\n",
    "\n",
    "\n",
    "plt.show()"
   ]
  },
  {
   "cell_type": "code",
   "execution_count": 13,
   "metadata": {},
   "outputs": [
    {
     "data": {
      "image/png": "[encoded data removed]",
      "text/plain": [
       "<Figure size 800x600 with 1 Axes>"
      ]
     },
     "metadata": {},
     "output_type": "display_data"
    }
   ],
   "source": [
    "#This diagram show the most instances belong to the category mobile. Again the data in this attribute is balanced.\n",
    "\n",
    "import matplotlib.pyplot as plt\n",
    "grouped_data = df.groupby('Device').size()\n",
    "\n",
    "df.groupby('Device').size()\n",
    "plt.figure(figsize=(8, 6))\n",
    "grouped_data.plot(kind='bar', color='skyblue')\n",
    "plt.title('device')\n",
    "plt.xlabel('device')\n",
    "plt.ylabel('device')\n",
    "plt.xticks(rotation=45)\n",
    "plt.grid(axis='y', linestyle='--', alpha=0.7)\n",
    "plt.tight_layout()\n",
    "\n",
    "\n",
    "plt.show()"
   ]
  },
  {
   "cell_type": "code",
   "execution_count": 14,
   "metadata": {},
   "outputs": [
    {
     "data": {
      "image/png": "[encoded data removed]",
      "text/plain": [
       "<Figure size 800x600 with 1 Axes>"
      ]
     },
     "metadata": {},
     "output_type": "display_data"
    }
   ],
   "source": [
    "#This diagram shows that the interest category with the  most instances is technology but overall the data can be characterized as balanced.\n",
    "\n",
    "import matplotlib.pyplot as plt\n",
    "grouped_data = df.groupby('Interest_Category').size()\n",
    "\n",
    "df.groupby('Interest_Category').size()\n",
    "plt.figure(figsize=(8, 6))\n",
    "grouped_data.plot(kind='bar', color='skyblue')\n",
    "plt.title('Interest_Category')\n",
    "plt.xlabel('Interest_Category')\n",
    "plt.ylabel('Count')\n",
    "plt.xticks(rotation=45)\n",
    "plt.grid(axis='y', linestyle='--', alpha=0.7)\n",
    "plt.tight_layout()\n",
    "\n",
    "\n",
    "plt.show()"
   ]
  },
  {
   "cell_type": "code",
   "execution_count": 11,
   "metadata": {},
   "outputs": [
    {
     "data": {
      "text/plain": [
       "<Axes: >"
      ]
     },
     "execution_count": 11,
     "metadata": {},
     "output_type": "execute_result"
    },
    {
     "data": {
      "image/png": "[encoded data removed]",
      "text/plain": [
       "<Figure size 640x480 with 2 Axes>"
      ]
     },
     "metadata": {},
     "output_type": "display_data"
    }
   ],
   "source": [
    "# From the correlation matrix it is noticable that there is no correlation between attributes as a result no attributes should be deleted.\n",
    "# The correlation matrix in not performed on the encoded categorical attributes , it is logical that they will have high correlation \n",
    "# because of the 0, 1 encoding which means for example if somebody is interested in sport(1 ) in the rest categories he will not be interested(0) but \n",
    "# these 4 categories will have high correlation between them.\n",
    "\n",
    "\n",
    "import seaborn as sns\n",
    "df_corr = df[['Age','Income','Time_Spent_on_Site','Number_of_Pages_Viewed','Click']].corr()\n",
    "sns.heatmap(df_corr, annot=True)"
   ]
  },
  {
   "cell_type": "code",
   "execution_count": 7,
   "metadata": {},
   "outputs": [
    {
     "data": {
      "image/png": "[encoded data removed]",
      "text/plain": [
       "<Figure size 640x480 with 1 Axes>"
      ]
     },
     "metadata": {},
     "output_type": "display_data"
    }
   ],
   "source": [
    "#This diagram shows the percentage of clicks per divice type. The highest percenage of click is 34%  from the device mobile\n",
    "\n",
    "\n",
    "click_counts = df[df['Click'] == 1]['Device'].value_counts(normalize=True) * 100\n",
    "ax = click_counts.plot(kind='bar', color='darkblue')\n",
    "plt.xlabel('Device Types')\n",
    "plt.ylabel('Click Percentage')\n",
    "plt.title('Percentage of Clicks by Device Type')\n",
    "\n",
    "for i in range(len(click_counts)):\n",
    "    percentage = click_counts.iloc[i]\n",
    "    ax.text(i, percentage / 2, f'{percentage:.1f}%', \n",
    "            ha='center', va='center', color='white', fontsize=10)"
   ]
  },
  {
   "cell_type": "code",
   "execution_count": 13,
   "metadata": {},
   "outputs": [
    {
     "data": {
      "image/png": "[encoded data removed]",
      "text/plain": [
       "<Figure size 640x480 with 1 Axes>"
      ]
     },
     "metadata": {},
     "output_type": "display_data"
    }
   ],
   "source": [
    "#This diagram shows the percentage of clicks per interest category. The highest percenage of click is 27%  from the people with interest in technology\n",
    "\n",
    "click_counts = df[df['Click'] == 1]['Interest_Category'].value_counts(normalize=True) * 100\n",
    "ax = click_counts.plot(kind='bar', color='darkblue')\n",
    "plt.xlabel('Interest_Category')\n",
    "plt.ylabel('Click Percentage')\n",
    "plt.title('Percentage of Clicks by Interest_Category')\n",
    "\n",
    "for i in range(len(click_counts)):\n",
    "    percentage = click_counts.iloc[i]\n",
    "    ax.text(i, percentage / 2, f'{percentage:.1f}%', \n",
    "            ha='center', va='center', color='white', fontsize=10)"
   ]
  },
  {
   "cell_type": "code",
   "execution_count": 24,
   "metadata": {},
   "outputs": [
    {
     "data": {
      "image/png": "[encoded data removed]",
      "text/plain": [
       "<Figure size 640x480 with 1 Axes>"
      ]
     },
     "metadata": {},
     "output_type": "display_data"
    }
   ],
   "source": [
    "#This diagram shows the percentage of clicks per location. The highest percenage of click is 35%  from the people who live in the suburban.  \n",
    "\n",
    "\n",
    "\n",
    "click_counts = df[df['Click'] == 1]['Location'].value_counts(normalize=True) * 100\n",
    "ax = click_counts.plot(kind='bar', color='darkblue')\n",
    "plt.xlabel('Location')\n",
    "plt.ylabel('Click Percentage')\n",
    "plt.title('Percentage of Clicks by Location')\n",
    "\n",
    "for i in range(len(click_counts)):\n",
    "    percentage = click_counts.iloc[i]\n",
    "    ax.text(i, percentage / 2, f'{percentage:.1f}%', \n",
    "            ha='center', va='center', color='white', fontsize=10)"
   ]
  },
  {
   "cell_type": "code",
   "execution_count": 14,
   "metadata": {},
   "outputs": [
    {
     "data": {
      "image/png": "[encoded data removed]",
      "text/plain": [
       "<Figure size 640x480 with 6 Axes>"
      ]
     },
     "metadata": {},
     "output_type": "display_data"
    }
   ],
   "source": [
    "# From the histograms we see that in the numeric attributes the distribution is uniform.\n",
    "import matplotlib as plt\n",
    "h = df.hist()"
   ]
  },
  {
   "cell_type": "code",
   "execution_count": 26,
   "metadata": {},
   "outputs": [
    {
     "data": {
      "text/plain": [
       "array([[<Axes: ylabel='Density'>, <Axes: ylabel='Density'>,\n",
       "        <Axes: ylabel='Density'>, <Axes: ylabel='Density'>,\n",
       "        <Axes: ylabel='Density'>, <Axes: ylabel='Density'>],\n",
       "       [<Axes: ylabel='Density'>, <Axes: ylabel='Density'>,\n",
       "        <Axes: ylabel='Density'>, <Axes: ylabel='Density'>,\n",
       "        <Axes: ylabel='Density'>, <Axes: ylabel='Density'>],\n",
       "       [<Axes: ylabel='Density'>, <Axes: ylabel='Density'>,\n",
       "        <Axes: ylabel='Density'>, <Axes: ylabel='Density'>,\n",
       "        <Axes: ylabel='Density'>, <Axes: ylabel='Density'>],\n",
       "       [<Axes: ylabel='Density'>, <Axes: ylabel='Density'>,\n",
       "        <Axes: ylabel='Density'>, <Axes: ylabel='Density'>,\n",
       "        <Axes: ylabel='Density'>, <Axes: ylabel='Density'>],\n",
       "       [<Axes: ylabel='Density'>, <Axes: ylabel='Density'>,\n",
       "        <Axes: ylabel='Density'>, <Axes: ylabel='Density'>,\n",
       "        <Axes: ylabel='Density'>, <Axes: ylabel='Density'>],\n",
       "       [<Axes: ylabel='Density'>, <Axes: ylabel='Density'>,\n",
       "        <Axes: ylabel='Density'>, <Axes: ylabel='Density'>,\n",
       "        <Axes: ylabel='Density'>, <Axes: ylabel='Density'>]], dtype=object)"
      ]
     },
     "execution_count": 26,
     "metadata": {},
     "output_type": "execute_result"
    },
    {
     "data": {
      "image/png": "[encoded data removed]",
      "text/plain": [
       "<Figure size 640x480 with 36 Axes>"
      ]
     },
     "metadata": {},
     "output_type": "display_data"
    }
   ],
   "source": [
    "# Again form the density plots we can see that we have uniform distribution\n",
    "\n",
    "\n",
    "df.plot(kind='density', subplots=True, layout=(6,6), sharex=False)"
   ]
  },
  {
   "cell_type": "code",
   "execution_count": 8,
   "metadata": {},
   "outputs": [],
   "source": [
    "# I split my data to train and test so the test is hidden from the cross validation , to keep the purity of the test data. \n",
    "\n",
    "from sklearn.model_selection import train_test_split\n",
    "\n",
    "\n",
    "train_data, test_data = train_test_split(df, test_size=0.2, random_state=42)"
   ]
  },
  {
   "cell_type": "code",
   "execution_count": 9,
   "metadata": {},
   "outputs": [],
   "source": [
    "# To be able to perform classification algorithms for the 4 categorical attributes encoding will be performed. The attributes will be encoded as 0 \n",
    "# or 1.As a result a dataset with 17 attributes is obtained.\n",
    "\n",
    "\n",
    "columns_to_encode = ['Gender', 'Location', 'Device', 'Interest_Category']\n",
    "\n",
    "\n",
    "en_df = pd.get_dummies(train_data, columns=columns_to_encode,dtype=int)"
   ]
  },
  {
   "cell_type": "code",
   "execution_count": 10,
   "metadata": {},
   "outputs": [],
   "source": [
    "# The target variable is moved to the last position in the dataframe. \n",
    "\n",
    "\n",
    "column_to_move = 'Click'\n",
    "en_df= en_df[[col for col in en_df if col != column_to_move] + [column_to_move]]"
   ]
  },
  {
   "cell_type": "code",
   "execution_count": 11,
   "metadata": {},
   "outputs": [],
   "source": [
    "# To understand which  algorithm is the best the cross validation score will be used to see which algorithm has the best performance.\n",
    "# Ten splits will be implemented which means that cross validation score will cut the dataset in 10 parts and will use the 9 for train and the 10th part for\n",
    "# test.This actions will be repeated 10 times. And in the end the performance score is the 10 accuracies divided by 10.\n",
    "\n",
    "from sklearn.model_selection import KFold\n",
    "from sklearn.model_selection import cross_val_score\n",
    "\n",
    "array = en_df.values\n",
    "X = array[:,0:16]\n",
    "Y = array[:,16]\n",
    "kfold = KFold(n_splits=10,shuffle=True, random_state=7)"
   ]
  },
  {
   "cell_type": "code",
   "execution_count": 12,
   "metadata": {},
   "outputs": [
    {
     "name": "stdout",
     "output_type": "stream",
     "text": [
      "0.47750000000000004\n"
     ]
    }
   ],
   "source": [
    "#The logistic regression is suitable for binary classification problems class 0 or class 1. Despite this the score is not good.\n",
    "\n",
    "\n",
    "from sklearn.linear_model import LogisticRegression\n",
    "results = cross_val_score(LogisticRegression(solver='liblinear'), X, Y, cv=kfold)\n",
    "print(results.mean()) "
   ]
  },
  {
   "cell_type": "code",
   "execution_count": 257,
   "metadata": {},
   "outputs": [
    {
     "name": "stdout",
     "output_type": "stream",
     "text": [
      "0.5168750000000001\n"
     ]
    }
   ],
   "source": [
    "# KNN also o good algorithm for classification, for every instnace he sees his nearest neighbors then the neighbors vote and the\n",
    "# instance gets the class with the most votes. \n",
    "\n",
    "\n",
    "from sklearn.neighbors import KNeighborsClassifier\n",
    "results = cross_val_score(KNeighborsClassifier(), X, Y, cv=kfold)\n",
    "print(results.mean())"
   ]
  },
  {
   "cell_type": "code",
   "execution_count": 258,
   "metadata": {},
   "outputs": [
    {
     "name": "stdout",
     "output_type": "stream",
     "text": [
      "0.49000000000000005\n"
     ]
    }
   ],
   "source": [
    "# A suitable algorithm for classifiaction but the score 0.49 is not satisfying.\n",
    "\n",
    "from sklearn.tree import DecisionTreeClassifier\n",
    "results = cross_val_score(DecisionTreeClassifier(), X, Y, cv=kfold)\n",
    "print(results.mean())"
   ]
  },
  {
   "cell_type": "code",
   "execution_count": 259,
   "metadata": {},
   "outputs": [
    {
     "name": "stdout",
     "output_type": "stream",
     "text": [
      "0.47375\n"
     ]
    }
   ],
   "source": [
    "# Naive bayes also a good algorithm for classification assumes that each feature is independent.\n",
    "# Gaussian naive bayes is good for numericala data. The score is not good 0.47\n",
    "\n",
    "from sklearn.naive_bayes import GaussianNB\n",
    "results = cross_val_score(GaussianNB(), X, Y, cv=kfold)\n",
    "print(results.mean())"
   ]
  },
  {
   "cell_type": "code",
   "execution_count": 260,
   "metadata": {},
   "outputs": [
    {
     "name": "stdout",
     "output_type": "stream",
     "text": [
      "0.48375\n"
     ]
    }
   ],
   "source": [
    "# SVM  another excellent algorithm for classification. His goal is to fing the best huperplane(divider) because it correctly classifies the training data\n",
    "\n",
    "from sklearn.svm import SVC\n",
    "from sklearn.model_selection import cross_val_score\n",
    "svm_model = SVC() \n",
    "results = cross_val_score(svm_model, X, Y, cv=kfold) \n",
    "print(results.mean())"
   ]
  },
  {
   "cell_type": "code",
   "execution_count": 261,
   "metadata": {},
   "outputs": [
    {
     "name": "stdout",
     "output_type": "stream",
     "text": [
      "0.48999999999999994\n"
     ]
    }
   ],
   "source": [
    "# Another sitable alforithm for classification is Random Trees . Random trees are created based on random subset of feaures to slit on and on randon instanses\n",
    "# As result the class is based on the average prediction.\n",
    "\n",
    "from sklearn.ensemble import RandomForestClassifier\n",
    "from sklearn.model_selection import cross_val_score\n",
    "\n",
    "\n",
    "rf_model = RandomForestClassifier(random_state=7)  \n",
    "results = cross_val_score(rf_model, X, Y, cv=kfold)  \n",
    "print(results.mean())"
   ]
  },
  {
   "cell_type": "code",
   "execution_count": 262,
   "metadata": {},
   "outputs": [
    {
     "name": "stderr",
     "output_type": "stream",
     "text": [
      "c:\\Users\\ioust\\Desktop\\ml\\ml\\Lib\\site-packages\\xgboost\\core.py:158: UserWarning: [20:12:05] WARNING: C:\\buildkite-agent\\builds\\buildkite-windows-cpu-autoscaling-group-i-0c55ff5f71b100e98-1\\xgboost\\xgboost-ci-windows\\src\\learner.cc:740: \n",
      "Parameters: { \"use_label_encoder\" } are not used.\n",
      "\n",
      "  warnings.warn(smsg, UserWarning)\n",
      "c:\\Users\\ioust\\Desktop\\ml\\ml\\Lib\\site-packages\\xgboost\\core.py:158: UserWarning: [20:12:05] WARNING: C:\\buildkite-agent\\builds\\buildkite-windows-cpu-autoscaling-group-i-0c55ff5f71b100e98-1\\xgboost\\xgboost-ci-windows\\src\\learner.cc:740: \n",
      "Parameters: { \"use_label_encoder\" } are not used.\n",
      "\n",
      "  warnings.warn(smsg, UserWarning)\n",
      "c:\\Users\\ioust\\Desktop\\ml\\ml\\Lib\\site-packages\\xgboost\\core.py:158: UserWarning: [20:12:05] WARNING: C:\\buildkite-agent\\builds\\buildkite-windows-cpu-autoscaling-group-i-0c55ff5f71b100e98-1\\xgboost\\xgboost-ci-windows\\src\\learner.cc:740: \n",
      "Parameters: { \"use_label_encoder\" } are not used.\n",
      "\n",
      "  warnings.warn(smsg, UserWarning)\n",
      "c:\\Users\\ioust\\Desktop\\ml\\ml\\Lib\\site-packages\\xgboost\\core.py:158: UserWarning: [20:12:05] WARNING: C:\\buildkite-agent\\builds\\buildkite-windows-cpu-autoscaling-group-i-0c55ff5f71b100e98-1\\xgboost\\xgboost-ci-windows\\src\\learner.cc:740: \n",
      "Parameters: { \"use_label_encoder\" } are not used.\n",
      "\n",
      "  warnings.warn(smsg, UserWarning)\n",
      "c:\\Users\\ioust\\Desktop\\ml\\ml\\Lib\\site-packages\\xgboost\\core.py:158: UserWarning: [20:12:05] WARNING: C:\\buildkite-agent\\builds\\buildkite-windows-cpu-autoscaling-group-i-0c55ff5f71b100e98-1\\xgboost\\xgboost-ci-windows\\src\\learner.cc:740: \n",
      "Parameters: { \"use_label_encoder\" } are not used.\n",
      "\n",
      "  warnings.warn(smsg, UserWarning)\n",
      "c:\\Users\\ioust\\Desktop\\ml\\ml\\Lib\\site-packages\\xgboost\\core.py:158: UserWarning: [20:12:05] WARNING: C:\\buildkite-agent\\builds\\buildkite-windows-cpu-autoscaling-group-i-0c55ff5f71b100e98-1\\xgboost\\xgboost-ci-windows\\src\\learner.cc:740: \n",
      "Parameters: { \"use_label_encoder\" } are not used.\n",
      "\n",
      "  warnings.warn(smsg, UserWarning)\n",
      "c:\\Users\\ioust\\Desktop\\ml\\ml\\Lib\\site-packages\\xgboost\\core.py:158: UserWarning: [20:12:05] WARNING: C:\\buildkite-agent\\builds\\buildkite-windows-cpu-autoscaling-group-i-0c55ff5f71b100e98-1\\xgboost\\xgboost-ci-windows\\src\\learner.cc:740: \n",
      "Parameters: { \"use_label_encoder\" } are not used.\n",
      "\n",
      "  warnings.warn(smsg, UserWarning)\n",
      "c:\\Users\\ioust\\Desktop\\ml\\ml\\Lib\\site-packages\\xgboost\\core.py:158: UserWarning: [20:12:06] WARNING: C:\\buildkite-agent\\builds\\buildkite-windows-cpu-autoscaling-group-i-0c55ff5f71b100e98-1\\xgboost\\xgboost-ci-windows\\src\\learner.cc:740: \n",
      "Parameters: { \"use_label_encoder\" } are not used.\n",
      "\n",
      "  warnings.warn(smsg, UserWarning)\n",
      "c:\\Users\\ioust\\Desktop\\ml\\ml\\Lib\\site-packages\\xgboost\\core.py:158: UserWarning: [20:12:06] WARNING: C:\\buildkite-agent\\builds\\buildkite-windows-cpu-autoscaling-group-i-0c55ff5f71b100e98-1\\xgboost\\xgboost-ci-windows\\src\\learner.cc:740: \n",
      "Parameters: { \"use_label_encoder\" } are not used.\n",
      "\n",
      "  warnings.warn(smsg, UserWarning)\n",
      "c:\\Users\\ioust\\Desktop\\ml\\ml\\Lib\\site-packages\\xgboost\\core.py:158: UserWarning: [20:12:06] WARNING: C:\\buildkite-agent\\builds\\buildkite-windows-cpu-autoscaling-group-i-0c55ff5f71b100e98-1\\xgboost\\xgboost-ci-windows\\src\\learner.cc:740: \n",
      "Parameters: { \"use_label_encoder\" } are not used.\n",
      "\n",
      "  warnings.warn(smsg, UserWarning)\n"
     ]
    },
    {
     "name": "stdout",
     "output_type": "stream",
     "text": [
      "Mean Cross-Validation Accuracy: 0.49312500000000004\n"
     ]
    }
   ],
   "source": [
    "# XGBoost is based on parallel creation of trees. XGBoost bustes tree ensembles, the tree ensemble model is a set \n",
    "# of classification and regression trees.\n",
    "\n",
    "from xgboost import XGBClassifier\n",
    "from sklearn.model_selection import cross_val_score\n",
    "\n",
    "\n",
    "xgb = XGBClassifier(use_label_encoder=False, eval_metric='logloss', random_state=7)\n",
    "\n",
    "\n",
    "results = cross_val_score(xgb, X, Y, cv=kfold, scoring='accuracy')\n",
    "\n",
    "\n",
    "print(\"Mean Cross-Validation Accuracy:\", results.mean())"
   ]
  },
  {
   "cell_type": "code",
   "execution_count": 13,
   "metadata": {},
   "outputs": [],
   "source": [
    "# Min max scaler scales the data to a fixed range, typically between 0 and 1. It is good when the data doesn't follow a Gaussian distribution \n",
    "# just like in our case. \n",
    "from sklearn.preprocessing import MinMaxScaler\n",
    "array = en_df.values\n",
    "\n",
    "X = array[:,0:16]\n",
    "Y = array[:,16]\n",
    "scaler = MinMaxScaler(feature_range=(0, 1))\n",
    "rescaledX = scaler.fit_transform(X)\n",
    "\n",
    "kfold = KFold(n_splits=10, shuffle=True, random_state=7)"
   ]
  },
  {
   "cell_type": "code",
   "execution_count": 264,
   "metadata": {},
   "outputs": [
    {
     "name": "stdout",
     "output_type": "stream",
     "text": [
      "0.478125\n"
     ]
    }
   ],
   "source": [
    "#Logistic regression has the same score 0.47\n",
    "\n",
    "from sklearn.linear_model import LogisticRegression\n",
    "results = cross_val_score(LogisticRegression(solver='liblinear'), rescaledX, Y, cv=kfold)\n",
    "print(results.mean()) "
   ]
  },
  {
   "cell_type": "code",
   "execution_count": 265,
   "metadata": {},
   "outputs": [
    {
     "name": "stdout",
     "output_type": "stream",
     "text": [
      "0.491875\n"
     ]
    }
   ],
   "source": [
    "# Since we had normal distribution that means that the values are already evenly spread in the space. After the min max scaler \n",
    "# since KNN measures distances some attribute may had lost its informative nature and KNN lost its efectiveness. The score worsend from\n",
    "# 0.51 to 0.49\n",
    "\n",
    "from sklearn.neighbors import KNeighborsClassifier\n",
    "results = cross_val_score(KNeighborsClassifier(), rescaledX, Y, cv=kfold)\n",
    "print(results.mean())"
   ]
  },
  {
   "cell_type": "code",
   "execution_count": 266,
   "metadata": {},
   "outputs": [
    {
     "name": "stdout",
     "output_type": "stream",
     "text": [
      "0.478125\n"
     ]
    }
   ],
   "source": [
    "# The dicision trees dont normaly need any data trasformation so the score is close to score from  the original dataset.\n",
    "\n",
    "from sklearn.tree import DecisionTreeClassifier\n",
    "results = cross_val_score(DecisionTreeClassifier(), rescaledX, Y, cv=kfold)\n",
    "print(results.mean())"
   ]
  },
  {
   "cell_type": "code",
   "execution_count": 267,
   "metadata": {},
   "outputs": [
    {
     "name": "stdout",
     "output_type": "stream",
     "text": [
      "0.4875\n"
     ]
    }
   ],
   "source": [
    "# Naive bayes has the same perfomance\n",
    "\n",
    "\n",
    "from sklearn.naive_bayes import GaussianNB\n",
    "results = cross_val_score(GaussianNB(), rescaledX, Y, cv=kfold)\n",
    "print(results.mean())"
   ]
  },
  {
   "cell_type": "code",
   "execution_count": 268,
   "metadata": {},
   "outputs": [
    {
     "name": "stdout",
     "output_type": "stream",
     "text": [
      "0.5018750000000001\n"
     ]
    }
   ],
   "source": [
    "# SVM improved his performance , the scaled data helped to find the hyperplane easier. Now there is no need for difficult computations.\n",
    "\n",
    "from sklearn.svm import SVC\n",
    "from sklearn.model_selection import cross_val_score\n",
    "svm_model = SVC() \n",
    "results = cross_val_score(svm_model, rescaledX, Y, cv=kfold) \n",
    "print(results.mean())"
   ]
  },
  {
   "cell_type": "code",
   "execution_count": 269,
   "metadata": {},
   "outputs": [
    {
     "name": "stdout",
     "output_type": "stream",
     "text": [
      "0.4887499999999999\n"
     ]
    }
   ],
   "source": [
    "# Random forest has the same perfomance\n",
    "\n",
    "\n",
    "from sklearn.ensemble import RandomForestClassifier\n",
    "from sklearn.model_selection import cross_val_score\n",
    "\n",
    "\n",
    "rf_model = RandomForestClassifier(random_state=7)  \n",
    "results = cross_val_score(rf_model, rescaledX, Y, cv=kfold)  \n",
    "print(results.mean())"
   ]
  },
  {
   "cell_type": "code",
   "execution_count": 270,
   "metadata": {},
   "outputs": [
    {
     "name": "stderr",
     "output_type": "stream",
     "text": [
      "c:\\Users\\ioust\\Desktop\\ml\\ml\\Lib\\site-packages\\xgboost\\core.py:158: UserWarning: [20:13:12] WARNING: C:\\buildkite-agent\\builds\\buildkite-windows-cpu-autoscaling-group-i-0c55ff5f71b100e98-1\\xgboost\\xgboost-ci-windows\\src\\learner.cc:740: \n",
      "Parameters: { \"use_label_encoder\" } are not used.\n",
      "\n",
      "  warnings.warn(smsg, UserWarning)\n",
      "c:\\Users\\ioust\\Desktop\\ml\\ml\\Lib\\site-packages\\xgboost\\core.py:158: UserWarning: [20:13:12] WARNING: C:\\buildkite-agent\\builds\\buildkite-windows-cpu-autoscaling-group-i-0c55ff5f71b100e98-1\\xgboost\\xgboost-ci-windows\\src\\learner.cc:740: \n",
      "Parameters: { \"use_label_encoder\" } are not used.\n",
      "\n",
      "  warnings.warn(smsg, UserWarning)\n",
      "c:\\Users\\ioust\\Desktop\\ml\\ml\\Lib\\site-packages\\xgboost\\core.py:158: UserWarning: [20:13:12] WARNING: C:\\buildkite-agent\\builds\\buildkite-windows-cpu-autoscaling-group-i-0c55ff5f71b100e98-1\\xgboost\\xgboost-ci-windows\\src\\learner.cc:740: \n",
      "Parameters: { \"use_label_encoder\" } are not used.\n",
      "\n",
      "  warnings.warn(smsg, UserWarning)\n",
      "c:\\Users\\ioust\\Desktop\\ml\\ml\\Lib\\site-packages\\xgboost\\core.py:158: UserWarning: [20:13:12] WARNING: C:\\buildkite-agent\\builds\\buildkite-windows-cpu-autoscaling-group-i-0c55ff5f71b100e98-1\\xgboost\\xgboost-ci-windows\\src\\learner.cc:740: \n",
      "Parameters: { \"use_label_encoder\" } are not used.\n",
      "\n",
      "  warnings.warn(smsg, UserWarning)\n",
      "c:\\Users\\ioust\\Desktop\\ml\\ml\\Lib\\site-packages\\xgboost\\core.py:158: UserWarning: [20:13:12] WARNING: C:\\buildkite-agent\\builds\\buildkite-windows-cpu-autoscaling-group-i-0c55ff5f71b100e98-1\\xgboost\\xgboost-ci-windows\\src\\learner.cc:740: \n",
      "Parameters: { \"use_label_encoder\" } are not used.\n",
      "\n",
      "  warnings.warn(smsg, UserWarning)\n",
      "c:\\Users\\ioust\\Desktop\\ml\\ml\\Lib\\site-packages\\xgboost\\core.py:158: UserWarning: [20:13:12] WARNING: C:\\buildkite-agent\\builds\\buildkite-windows-cpu-autoscaling-group-i-0c55ff5f71b100e98-1\\xgboost\\xgboost-ci-windows\\src\\learner.cc:740: \n",
      "Parameters: { \"use_label_encoder\" } are not used.\n",
      "\n",
      "  warnings.warn(smsg, UserWarning)\n",
      "c:\\Users\\ioust\\Desktop\\ml\\ml\\Lib\\site-packages\\xgboost\\core.py:158: UserWarning: [20:13:12] WARNING: C:\\buildkite-agent\\builds\\buildkite-windows-cpu-autoscaling-group-i-0c55ff5f71b100e98-1\\xgboost\\xgboost-ci-windows\\src\\learner.cc:740: \n",
      "Parameters: { \"use_label_encoder\" } are not used.\n",
      "\n",
      "  warnings.warn(smsg, UserWarning)\n",
      "c:\\Users\\ioust\\Desktop\\ml\\ml\\Lib\\site-packages\\xgboost\\core.py:158: UserWarning: [20:13:12] WARNING: C:\\buildkite-agent\\builds\\buildkite-windows-cpu-autoscaling-group-i-0c55ff5f71b100e98-1\\xgboost\\xgboost-ci-windows\\src\\learner.cc:740: \n",
      "Parameters: { \"use_label_encoder\" } are not used.\n",
      "\n",
      "  warnings.warn(smsg, UserWarning)\n",
      "c:\\Users\\ioust\\Desktop\\ml\\ml\\Lib\\site-packages\\xgboost\\core.py:158: UserWarning: [20:13:12] WARNING: C:\\buildkite-agent\\builds\\buildkite-windows-cpu-autoscaling-group-i-0c55ff5f71b100e98-1\\xgboost\\xgboost-ci-windows\\src\\learner.cc:740: \n",
      "Parameters: { \"use_label_encoder\" } are not used.\n",
      "\n",
      "  warnings.warn(smsg, UserWarning)\n"
     ]
    },
    {
     "name": "stdout",
     "output_type": "stream",
     "text": [
      "Mean Cross-Validation Accuracy: 0.49312500000000004\n"
     ]
    },
    {
     "name": "stderr",
     "output_type": "stream",
     "text": [
      "c:\\Users\\ioust\\Desktop\\ml\\ml\\Lib\\site-packages\\xgboost\\core.py:158: UserWarning: [20:13:12] WARNING: C:\\buildkite-agent\\builds\\buildkite-windows-cpu-autoscaling-group-i-0c55ff5f71b100e98-1\\xgboost\\xgboost-ci-windows\\src\\learner.cc:740: \n",
      "Parameters: { \"use_label_encoder\" } are not used.\n",
      "\n",
      "  warnings.warn(smsg, UserWarning)\n"
     ]
    }
   ],
   "source": [
    "# XGBOOST has the same performance.\n",
    "\n",
    "from xgboost import XGBClassifier\n",
    "from sklearn.model_selection import cross_val_score\n",
    "\n",
    "xgb = XGBClassifier(use_label_encoder=False, eval_metric='logloss', random_state=7)\n",
    "\n",
    "\n",
    "results = cross_val_score(xgb, rescaledX, Y, cv=kfold, scoring='accuracy')\n",
    "\n",
    "print(\"Mean Cross-Validation Accuracy:\", results.mean())"
   ]
  },
  {
   "cell_type": "code",
   "execution_count": 14,
   "metadata": {},
   "outputs": [],
   "source": [
    "# Now standart scaler will be performed. It  scales the data to have a mean of 0 and a standard deviation of 1\n",
    "# Suitable for algorithms that assume standard normally distributed data \n",
    "\n",
    "from sklearn.preprocessing import StandardScaler\n",
    "scaler = StandardScaler().fit(X)\n",
    "resX = scaler.transform(X)"
   ]
  },
  {
   "cell_type": "code",
   "execution_count": 272,
   "metadata": {},
   "outputs": [
    {
     "name": "stdout",
     "output_type": "stream",
     "text": [
      "0.47875000000000006\n"
     ]
    }
   ],
   "source": [
    "#Logistic regression has the same performance\n",
    "from sklearn.linear_model import LogisticRegression\n",
    "results = cross_val_score(LogisticRegression(solver='liblinear'), resX, Y, cv=kfold)\n",
    "print(results.mean()) "
   ]
  },
  {
   "cell_type": "code",
   "execution_count": 273,
   "metadata": {},
   "outputs": [
    {
     "name": "stdout",
     "output_type": "stream",
     "text": [
      "0.484375\n"
     ]
    }
   ],
   "source": [
    "# KNN was worsened beacause many attributes may have lost their relationships that had a meaning for example age and salary. This may \n",
    "# had been meaningfull in the uniform distribution\n",
    "\n",
    "from sklearn.neighbors import KNeighborsClassifier\n",
    "results = cross_val_score(KNeighborsClassifier(), resX, Y, cv=kfold)\n",
    "print(results.mean())"
   ]
  },
  {
   "cell_type": "code",
   "execution_count": 274,
   "metadata": {},
   "outputs": [
    {
     "name": "stdout",
     "output_type": "stream",
     "text": [
      "0.479375\n"
     ]
    }
   ],
   "source": [
    "# The trees work fine without standarization.\n",
    "\n",
    "from sklearn.tree import DecisionTreeClassifier\n",
    "results = cross_val_score(DecisionTreeClassifier(), resX, Y, cv=kfold)\n",
    "print(results.mean())"
   ]
  },
  {
   "cell_type": "code",
   "execution_count": 275,
   "metadata": {},
   "outputs": [
    {
     "name": "stdout",
     "output_type": "stream",
     "text": [
      "0.4875\n"
     ]
    }
   ],
   "source": [
    "# Standarization is useful when we have gaussian distribution . In our case it was not useful and helpful for naive bayes that need gaussian distribution\n",
    "\n",
    "from sklearn.naive_bayes import GaussianNB\n",
    "results = cross_val_score(GaussianNB(), resX, Y, cv=kfold)\n",
    "print(results.mean())"
   ]
  },
  {
   "cell_type": "code",
   "execution_count": 276,
   "metadata": {},
   "outputs": [
    {
     "name": "stdout",
     "output_type": "stream",
     "text": [
      "0.489375\n"
     ]
    }
   ],
   "source": [
    "#  SVM has the same performance.\n",
    "\n",
    "from sklearn.svm import SVC\n",
    "from sklearn.model_selection import cross_val_score\n",
    "svm_model = SVC() \n",
    "results = cross_val_score(svm_model, resX, Y, cv=kfold) \n",
    "print(results.mean())"
   ]
  },
  {
   "cell_type": "code",
   "execution_count": 277,
   "metadata": {},
   "outputs": [
    {
     "name": "stdout",
     "output_type": "stream",
     "text": [
      "0.49000000000000005\n"
     ]
    }
   ],
   "source": [
    "\n",
    "\n",
    "from sklearn.ensemble import RandomForestClassifier\n",
    "from sklearn.model_selection import cross_val_score\n",
    "\n",
    "\n",
    "rf_model = RandomForestClassifier(random_state=7)  \n",
    "results = cross_val_score(rf_model, resX, Y, cv=kfold)  \n",
    "print(results.mean())"
   ]
  },
  {
   "cell_type": "code",
   "execution_count": 278,
   "metadata": {},
   "outputs": [
    {
     "name": "stderr",
     "output_type": "stream",
     "text": [
      "c:\\Users\\ioust\\Desktop\\ml\\ml\\Lib\\site-packages\\xgboost\\core.py:158: UserWarning: [20:13:59] WARNING: C:\\buildkite-agent\\builds\\buildkite-windows-cpu-autoscaling-group-i-0c55ff5f71b100e98-1\\xgboost\\xgboost-ci-windows\\src\\learner.cc:740: \n",
      "Parameters: { \"use_label_encoder\" } are not used.\n",
      "\n",
      "  warnings.warn(smsg, UserWarning)\n",
      "c:\\Users\\ioust\\Desktop\\ml\\ml\\Lib\\site-packages\\xgboost\\core.py:158: UserWarning: [20:13:59] WARNING: C:\\buildkite-agent\\builds\\buildkite-windows-cpu-autoscaling-group-i-0c55ff5f71b100e98-1\\xgboost\\xgboost-ci-windows\\src\\learner.cc:740: \n",
      "Parameters: { \"use_label_encoder\" } are not used.\n",
      "\n",
      "  warnings.warn(smsg, UserWarning)\n",
      "c:\\Users\\ioust\\Desktop\\ml\\ml\\Lib\\site-packages\\xgboost\\core.py:158: UserWarning: [20:13:59] WARNING: C:\\buildkite-agent\\builds\\buildkite-windows-cpu-autoscaling-group-i-0c55ff5f71b100e98-1\\xgboost\\xgboost-ci-windows\\src\\learner.cc:740: \n",
      "Parameters: { \"use_label_encoder\" } are not used.\n",
      "\n",
      "  warnings.warn(smsg, UserWarning)\n",
      "c:\\Users\\ioust\\Desktop\\ml\\ml\\Lib\\site-packages\\xgboost\\core.py:158: UserWarning: [20:13:59] WARNING: C:\\buildkite-agent\\builds\\buildkite-windows-cpu-autoscaling-group-i-0c55ff5f71b100e98-1\\xgboost\\xgboost-ci-windows\\src\\learner.cc:740: \n",
      "Parameters: { \"use_label_encoder\" } are not used.\n",
      "\n",
      "  warnings.warn(smsg, UserWarning)\n",
      "c:\\Users\\ioust\\Desktop\\ml\\ml\\Lib\\site-packages\\xgboost\\core.py:158: UserWarning: [20:13:59] WARNING: C:\\buildkite-agent\\builds\\buildkite-windows-cpu-autoscaling-group-i-0c55ff5f71b100e98-1\\xgboost\\xgboost-ci-windows\\src\\learner.cc:740: \n",
      "Parameters: { \"use_label_encoder\" } are not used.\n",
      "\n",
      "  warnings.warn(smsg, UserWarning)\n",
      "c:\\Users\\ioust\\Desktop\\ml\\ml\\Lib\\site-packages\\xgboost\\core.py:158: UserWarning: [20:13:59] WARNING: C:\\buildkite-agent\\builds\\buildkite-windows-cpu-autoscaling-group-i-0c55ff5f71b100e98-1\\xgboost\\xgboost-ci-windows\\src\\learner.cc:740: \n",
      "Parameters: { \"use_label_encoder\" } are not used.\n",
      "\n",
      "  warnings.warn(smsg, UserWarning)\n",
      "c:\\Users\\ioust\\Desktop\\ml\\ml\\Lib\\site-packages\\xgboost\\core.py:158: UserWarning: [20:13:59] WARNING: C:\\buildkite-agent\\builds\\buildkite-windows-cpu-autoscaling-group-i-0c55ff5f71b100e98-1\\xgboost\\xgboost-ci-windows\\src\\learner.cc:740: \n",
      "Parameters: { \"use_label_encoder\" } are not used.\n",
      "\n",
      "  warnings.warn(smsg, UserWarning)\n"
     ]
    },
    {
     "name": "stdout",
     "output_type": "stream",
     "text": [
      "Mean Cross-Validation Accuracy: 0.49312500000000004\n"
     ]
    },
    {
     "name": "stderr",
     "output_type": "stream",
     "text": [
      "c:\\Users\\ioust\\Desktop\\ml\\ml\\Lib\\site-packages\\xgboost\\core.py:158: UserWarning: [20:13:59] WARNING: C:\\buildkite-agent\\builds\\buildkite-windows-cpu-autoscaling-group-i-0c55ff5f71b100e98-1\\xgboost\\xgboost-ci-windows\\src\\learner.cc:740: \n",
      "Parameters: { \"use_label_encoder\" } are not used.\n",
      "\n",
      "  warnings.warn(smsg, UserWarning)\n",
      "c:\\Users\\ioust\\Desktop\\ml\\ml\\Lib\\site-packages\\xgboost\\core.py:158: UserWarning: [20:13:59] WARNING: C:\\buildkite-agent\\builds\\buildkite-windows-cpu-autoscaling-group-i-0c55ff5f71b100e98-1\\xgboost\\xgboost-ci-windows\\src\\learner.cc:740: \n",
      "Parameters: { \"use_label_encoder\" } are not used.\n",
      "\n",
      "  warnings.warn(smsg, UserWarning)\n",
      "c:\\Users\\ioust\\Desktop\\ml\\ml\\Lib\\site-packages\\xgboost\\core.py:158: UserWarning: [20:13:59] WARNING: C:\\buildkite-agent\\builds\\buildkite-windows-cpu-autoscaling-group-i-0c55ff5f71b100e98-1\\xgboost\\xgboost-ci-windows\\src\\learner.cc:740: \n",
      "Parameters: { \"use_label_encoder\" } are not used.\n",
      "\n",
      "  warnings.warn(smsg, UserWarning)\n"
     ]
    }
   ],
   "source": [
    "from xgboost import XGBClassifier\n",
    "from sklearn.model_selection import cross_val_score\n",
    "\n",
    "\n",
    "xgb = XGBClassifier(use_label_encoder=False, eval_metric='logloss', random_state=7)\n",
    "\n",
    "results = cross_val_score(xgb, resX, Y, cv=kfold, scoring='accuracy')\n",
    "\n",
    "\n",
    "print(\"Mean Cross-Validation Accuracy:\", results.mean())"
   ]
  },
  {
   "cell_type": "code",
   "execution_count": 15,
   "metadata": {},
   "outputs": [],
   "source": [
    "# Normalization scales the data at the row level so that the norm of each data point (row) is 1.It ensures that each data point contributes equally\n",
    "\n",
    "\n",
    "from sklearn.preprocessing import Normalizer\n",
    "scaler = Normalizer().fit(X)\n",
    "normalizedX = scaler.transform(X)"
   ]
  },
  {
   "cell_type": "code",
   "execution_count": 280,
   "metadata": {},
   "outputs": [
    {
     "name": "stdout",
     "output_type": "stream",
     "text": [
      "0.49250000000000005\n"
     ]
    }
   ],
   "source": [
    "\n",
    "\n",
    "from sklearn.linear_model import LogisticRegression\n",
    "results = cross_val_score(LogisticRegression(solver='liblinear'), normalizedX, Y, cv=kfold)\n",
    "print(results.mean()) "
   ]
  },
  {
   "cell_type": "code",
   "execution_count": 281,
   "metadata": {},
   "outputs": [
    {
     "name": "stdout",
     "output_type": "stream",
     "text": [
      "0.488125\n"
     ]
    }
   ],
   "source": [
    "#Uniform distributions may already provide meaningful separability for KNN and now it worsened after the normalization.\n",
    "\n",
    "\n",
    "from sklearn.neighbors import KNeighborsClassifier\n",
    "results = cross_val_score(KNeighborsClassifier(), normalizedX, Y, cv=kfold)\n",
    "print(results.mean())"
   ]
  },
  {
   "cell_type": "code",
   "execution_count": 282,
   "metadata": {},
   "outputs": [
    {
     "name": "stdout",
     "output_type": "stream",
     "text": [
      "0.48250000000000004\n"
     ]
    }
   ],
   "source": [
    "from sklearn.tree import DecisionTreeClassifier\n",
    "results = cross_val_score(DecisionTreeClassifier(), normalizedX, Y, cv=kfold)\n",
    "print(results.mean())"
   ]
  },
  {
   "cell_type": "code",
   "execution_count": 283,
   "metadata": {},
   "outputs": [
    {
     "name": "stdout",
     "output_type": "stream",
     "text": [
      "0.48875\n"
     ]
    }
   ],
   "source": [
    "#Normalization  make the feature distributions closer to what the NB wants meaning gaussian ditribution\n",
    "\n",
    "from sklearn.naive_bayes import GaussianNB\n",
    "results = cross_val_score(GaussianNB(), normalizedX, Y, cv=kfold)\n",
    "print(results.mean())"
   ]
  },
  {
   "cell_type": "code",
   "execution_count": 284,
   "metadata": {},
   "outputs": [
    {
     "name": "stdout",
     "output_type": "stream",
     "text": [
      "0.49250000000000005\n"
     ]
    }
   ],
   "source": [
    "#Normalization  compresses the range of feature values so it affected a little the algorithm.\n",
    "\n",
    "from sklearn.svm import SVC\n",
    "from sklearn.model_selection import cross_val_score\n",
    "svm_model = SVC() \n",
    "results = cross_val_score(svm_model, normalizedX, Y, cv=kfold) \n",
    "print(results.mean())"
   ]
  },
  {
   "cell_type": "code",
   "execution_count": 285,
   "metadata": {},
   "outputs": [
    {
     "name": "stdout",
     "output_type": "stream",
     "text": [
      "0.505625\n"
     ]
    }
   ],
   "source": [
    "# Random forest and GXBOOST probably after normalization had the oportunity to find attributes with more ease to perform more meaningfull splits.\n",
    "\n",
    "from sklearn.ensemble import RandomForestClassifier\n",
    "from sklearn.model_selection import cross_val_score\n",
    "\n",
    "\n",
    "rf_model = RandomForestClassifier(random_state=7)  \n",
    "results = cross_val_score(rf_model, normalizedX, Y, cv=kfold)  \n",
    "print(results.mean())"
   ]
  },
  {
   "cell_type": "code",
   "execution_count": 286,
   "metadata": {},
   "outputs": [
    {
     "name": "stderr",
     "output_type": "stream",
     "text": [
      "c:\\Users\\ioust\\Desktop\\ml\\ml\\Lib\\site-packages\\xgboost\\core.py:158: UserWarning: [20:14:47] WARNING: C:\\buildkite-agent\\builds\\buildkite-windows-cpu-autoscaling-group-i-0c55ff5f71b100e98-1\\xgboost\\xgboost-ci-windows\\src\\learner.cc:740: \n",
      "Parameters: { \"use_label_encoder\" } are not used.\n",
      "\n",
      "  warnings.warn(smsg, UserWarning)\n",
      "c:\\Users\\ioust\\Desktop\\ml\\ml\\Lib\\site-packages\\xgboost\\core.py:158: UserWarning: [20:14:48] WARNING: C:\\buildkite-agent\\builds\\buildkite-windows-cpu-autoscaling-group-i-0c55ff5f71b100e98-1\\xgboost\\xgboost-ci-windows\\src\\learner.cc:740: \n",
      "Parameters: { \"use_label_encoder\" } are not used.\n",
      "\n",
      "  warnings.warn(smsg, UserWarning)\n",
      "c:\\Users\\ioust\\Desktop\\ml\\ml\\Lib\\site-packages\\xgboost\\core.py:158: UserWarning: [20:14:48] WARNING: C:\\buildkite-agent\\builds\\buildkite-windows-cpu-autoscaling-group-i-0c55ff5f71b100e98-1\\xgboost\\xgboost-ci-windows\\src\\learner.cc:740: \n",
      "Parameters: { \"use_label_encoder\" } are not used.\n",
      "\n",
      "  warnings.warn(smsg, UserWarning)\n",
      "c:\\Users\\ioust\\Desktop\\ml\\ml\\Lib\\site-packages\\xgboost\\core.py:158: UserWarning: [20:14:48] WARNING: C:\\buildkite-agent\\builds\\buildkite-windows-cpu-autoscaling-group-i-0c55ff5f71b100e98-1\\xgboost\\xgboost-ci-windows\\src\\learner.cc:740: \n",
      "Parameters: { \"use_label_encoder\" } are not used.\n",
      "\n",
      "  warnings.warn(smsg, UserWarning)\n",
      "c:\\Users\\ioust\\Desktop\\ml\\ml\\Lib\\site-packages\\xgboost\\core.py:158: UserWarning: [20:14:48] WARNING: C:\\buildkite-agent\\builds\\buildkite-windows-cpu-autoscaling-group-i-0c55ff5f71b100e98-1\\xgboost\\xgboost-ci-windows\\src\\learner.cc:740: \n",
      "Parameters: { \"use_label_encoder\" } are not used.\n",
      "\n",
      "  warnings.warn(smsg, UserWarning)\n",
      "c:\\Users\\ioust\\Desktop\\ml\\ml\\Lib\\site-packages\\xgboost\\core.py:158: UserWarning: [20:14:48] WARNING: C:\\buildkite-agent\\builds\\buildkite-windows-cpu-autoscaling-group-i-0c55ff5f71b100e98-1\\xgboost\\xgboost-ci-windows\\src\\learner.cc:740: \n",
      "Parameters: { \"use_label_encoder\" } are not used.\n",
      "\n",
      "  warnings.warn(smsg, UserWarning)\n",
      "c:\\Users\\ioust\\Desktop\\ml\\ml\\Lib\\site-packages\\xgboost\\core.py:158: UserWarning: [20:14:48] WARNING: C:\\buildkite-agent\\builds\\buildkite-windows-cpu-autoscaling-group-i-0c55ff5f71b100e98-1\\xgboost\\xgboost-ci-windows\\src\\learner.cc:740: \n",
      "Parameters: { \"use_label_encoder\" } are not used.\n",
      "\n",
      "  warnings.warn(smsg, UserWarning)\n",
      "c:\\Users\\ioust\\Desktop\\ml\\ml\\Lib\\site-packages\\xgboost\\core.py:158: UserWarning: [20:14:48] WARNING: C:\\buildkite-agent\\builds\\buildkite-windows-cpu-autoscaling-group-i-0c55ff5f71b100e98-1\\xgboost\\xgboost-ci-windows\\src\\learner.cc:740: \n",
      "Parameters: { \"use_label_encoder\" } are not used.\n",
      "\n",
      "  warnings.warn(smsg, UserWarning)\n"
     ]
    },
    {
     "name": "stdout",
     "output_type": "stream",
     "text": [
      "Mean Cross-Validation Accuracy: 0.504375\n"
     ]
    },
    {
     "name": "stderr",
     "output_type": "stream",
     "text": [
      "c:\\Users\\ioust\\Desktop\\ml\\ml\\Lib\\site-packages\\xgboost\\core.py:158: UserWarning: [20:14:48] WARNING: C:\\buildkite-agent\\builds\\buildkite-windows-cpu-autoscaling-group-i-0c55ff5f71b100e98-1\\xgboost\\xgboost-ci-windows\\src\\learner.cc:740: \n",
      "Parameters: { \"use_label_encoder\" } are not used.\n",
      "\n",
      "  warnings.warn(smsg, UserWarning)\n",
      "c:\\Users\\ioust\\Desktop\\ml\\ml\\Lib\\site-packages\\xgboost\\core.py:158: UserWarning: [20:14:48] WARNING: C:\\buildkite-agent\\builds\\buildkite-windows-cpu-autoscaling-group-i-0c55ff5f71b100e98-1\\xgboost\\xgboost-ci-windows\\src\\learner.cc:740: \n",
      "Parameters: { \"use_label_encoder\" } are not used.\n",
      "\n",
      "  warnings.warn(smsg, UserWarning)\n"
     ]
    }
   ],
   "source": [
    "from xgboost import XGBClassifier\n",
    "from sklearn.model_selection import cross_val_score\n",
    "\n",
    "\n",
    "xgb = XGBClassifier(use_label_encoder=False, eval_metric='logloss', random_state=7)\n",
    "\n",
    "results = cross_val_score(xgb, normalizedX, Y, cv=kfold, scoring='accuracy')\n",
    "\n",
    "\n",
    "print(\"Mean Cross-Validation Accuracy:\", results.mean())"
   ]
  },
  {
   "cell_type": "code",
   "execution_count": 16,
   "metadata": {},
   "outputs": [],
   "source": [
    "X_train = en_df.drop('Click', axis=1)\n",
    "y_train = en_df['Click']\n"
   ]
  },
  {
   "cell_type": "code",
   "execution_count": 17,
   "metadata": {},
   "outputs": [
    {
     "name": "stdout",
     "output_type": "stream",
     "text": [
      "Best Parameters: {'metric': 'euclidean', 'n_neighbors': 3, 'weights': 'distance'}\n",
      "Best Cross-Validation Accuracy: 0.5175247069639164\n"
     ]
    }
   ],
   "source": [
    "# Now i will tune the KNN algorithm to find the best K , the best weights and the best metric. As a result the Best K is 3, metric euclidean distance\n",
    "# and weights distance.\n",
    "\n",
    "from sklearn.neighbors import KNeighborsClassifier\n",
    "from sklearn.model_selection import GridSearchCV\n",
    "\n",
    "\n",
    "\n",
    "\n",
    "knn = KNeighborsClassifier()\n",
    "\n",
    "\n",
    "param_grid = {\n",
    "    'n_neighbors': [3, 5, 7, 9],  \n",
    "     'weights': ['uniform', 'distance'],\n",
    "    'metric': ['euclidean', 'manhattan', 'minkowski']  \n",
    "}\n",
    "\n",
    "\n",
    "grid_search = GridSearchCV(estimator=knn, param_grid=param_grid, cv=7, scoring='accuracy')\n",
    "\n",
    "grid_search.fit(X_train, y_train)\n",
    "\n",
    "\n",
    "print(\"Best Parameters:\", grid_search.best_params_)\n",
    "print(\"Best Cross-Validation Accuracy:\", grid_search.best_score_)\n",
    "\n",
    "\n"
   ]
  },
  {
   "cell_type": "code",
   "execution_count": 18,
   "metadata": {},
   "outputs": [],
   "source": [
    "columns_to_encode = ['Gender', 'Location', 'Device', 'Interest_Category']\n",
    "\n",
    "\n",
    "en_dftest = pd.get_dummies(test_data, columns=columns_to_encode,dtype=int)"
   ]
  },
  {
   "cell_type": "code",
   "execution_count": 19,
   "metadata": {},
   "outputs": [],
   "source": [
    "column_to_move = 'Click'\n",
    "en_dftest= en_dftest[[col for col in en_dftest if col != column_to_move] + [column_to_move]]"
   ]
  },
  {
   "cell_type": "code",
   "execution_count": 20,
   "metadata": {},
   "outputs": [
    {
     "name": "stdout",
     "output_type": "stream",
     "text": [
      "Accuracy: 0.53\n",
      "Classification Report:\n",
      "              precision    recall  f1-score   support\n",
      "\n",
      "           0       0.52      0.60      0.56       198\n",
      "           1       0.54      0.47      0.50       202\n",
      "\n",
      "    accuracy                           0.53       400\n",
      "   macro avg       0.53      0.53      0.53       400\n",
      "weighted avg       0.53      0.53      0.53       400\n",
      "\n"
     ]
    }
   ],
   "source": [
    "# As a result the best algorithm is KNN. Now i will use the  20% of data tha was stored as  test. The k will be 3 \n",
    "# metric euclidean and weights distance.Accuracy 0.53 means that 118 correct in class 0 and 94 correct in the class 1 divided by 400.\n",
    "# Precision for class 0 of all instances the model predicted as class 0, 52% were actually correct.\n",
    "# Recall For class 0 of all the actual class 0 instances, the model correctly identified 60% of them.\n",
    "# F1 score a harmonic mean between the presicion and recall.\n",
    "# Precision for class 1 of all instances the model predicted as class 1, 54% were actually correct.\n",
    "# Recall for class 1 of all the actual class 1 instances, the model correctly identified 47% of them.\n",
    "# The score is not so satisfying as a result more data need to be collected.The algorithm can not make clear seperation of when a class is 0 and when 1 \n",
    "# thats why more data is needed.Spesifically the creator of the dataset whould had been asked to provide more attributes because the algorithm underfits.\n",
    "# As the domain expert and the owner of the dataset he may have more information (attributes) that can provide significant improvement to the algorithm.\n",
    "\n",
    "\n",
    "\n",
    "from sklearn.model_selection import train_test_split\n",
    "from sklearn.metrics import accuracy_score, classification_report\n",
    "from sklearn.neighbors import KNeighborsClassifier\n",
    "X_test = en_dftest.drop('Click', axis=1)\n",
    "y_test = en_dftest['Click']\n",
    "k = 3  \n",
    "model = KNeighborsClassifier(n_neighbors=k, weights='distance', metric='euclidean')\n",
    "model.fit(X_train, y_train)\n",
    "y_pred = model.predict(X_test)\n",
    "accuracy = accuracy_score(y_test, y_pred)\n",
    "print(f\"Accuracy: {accuracy:.2f}\")\n",
    "print(\"Classification Report:\")\n",
    "print(classification_report(y_test, y_pred))"
   ]
  },
  {
   "cell_type": "code",
   "execution_count": null,
   "metadata": {},
   "outputs": [
    {
     "data": {
      "text/plain": [
       "<sklearn.metrics._plot.confusion_matrix.ConfusionMatrixDisplay at 0x2376db85d30>"
      ]
     },
     "execution_count": 21,
     "metadata": {},
     "output_type": "execute_result"
    },
    {
     "data": {
      "image/png": "[encoded data removed]",
      "text/plain": [
       "<Figure size 640x480 with 2 Axes>"
      ]
     },
     "metadata": {},
     "output_type": "display_data"
    }
   ],
   "source": [
    "# The confusion matrix shows that from the 210 instances in class 0 , 118 were corect predicted in class 0 and 80 wrongly predicted in class 1.\n",
    "# From all the instances in class 1 , 94 were correctly predicted and the 108 were misclassified as class 0.\n",
    "\n",
    "from sklearn.metrics import confusion_matrix, ConfusionMatrixDisplay\n",
    "cm = confusion_matrix(y_test, y_pred)\n",
    "disp = ConfusionMatrixDisplay(confusion_matrix=cm, )\n",
    "disp.plot(cmap='Greens')  "
   ]
  },
  {
   "cell_type": "code",
   "execution_count": 22,
   "metadata": {},
   "outputs": [],
   "source": [
    "X_train = normalizedX\n",
    "y_train = en_df['Click']"
   ]
  },
  {
   "cell_type": "code",
   "execution_count": 23,
   "metadata": {},
   "outputs": [
    {
     "name": "stdout",
     "output_type": "stream",
     "text": [
      "Fitting 7 folds for each of 108 candidates, totalling 756 fits\n",
      "Best Parameters: {'colsample_bytree': 1.0, 'learning_rate': 0.1, 'max_depth': 5, 'n_estimators': 100, 'subsample': 1.0}\n",
      "Best Cross-Validation Accuracy: 0.5231528603167307\n"
     ]
    },
    {
     "name": "stderr",
     "output_type": "stream",
     "text": [
      "c:\\Users\\ioust\\Desktop\\ml\\ml\\Lib\\site-packages\\xgboost\\core.py:158: UserWarning: [10:34:02] WARNING: C:\\buildkite-agent\\builds\\buildkite-windows-cpu-autoscaling-group-i-0c55ff5f71b100e98-1\\xgboost\\xgboost-ci-windows\\src\\learner.cc:740: \n",
      "Parameters: { \"use_label_encoder\" } are not used.\n",
      "\n",
      "  warnings.warn(smsg, UserWarning)\n"
     ]
    }
   ],
   "source": [
    "#Last but not least XGBoost will be tunned to see if the performace can be improved. As a result indeed the score is 0.523 but\n",
    "# it is lower than KNN.\n",
    "\n",
    "from xgboost import XGBClassifier\n",
    "from sklearn.model_selection import GridSearchCV, train_test_split\n",
    "from sklearn.metrics import classification_report\n",
    "\n",
    "\n",
    "\n",
    "\n",
    "xgb = XGBClassifier(use_label_encoder=False, eval_metric='logloss', random_state=7)\n",
    "\n",
    "\n",
    "param_grid = {\n",
    "    'n_estimators': [50, 100, 150],  \n",
    "    'max_depth': [3, 5, 7],          \n",
    "    'learning_rate': [0.1, 0.01, 0.001],  \n",
    "    'subsample': [0.8, 1.0],         \n",
    "    'colsample_bytree': [0.8, 1.0]   \n",
    "}\n",
    "\n",
    "\n",
    "grid_search = GridSearchCV(estimator=xgb, param_grid=param_grid, cv=7, scoring='accuracy', n_jobs=-1, verbose=1)\n",
    "\n",
    "\n",
    "grid_search.fit(X_train, y_train)\n",
    "\n",
    "print(\"Best Parameters:\", grid_search.best_params_)\n",
    "print(\"Best Cross-Validation Accuracy:\", grid_search.best_score_)\n",
    "\n",
    "\n"
   ]
  },
  {
   "cell_type": "code",
   "execution_count": 24,
   "metadata": {},
   "outputs": [],
   "source": [
    "X_test = en_dftest.drop('Click', axis=1)\n",
    "y_test = en_dftest['Click']"
   ]
  },
  {
   "cell_type": "code",
   "execution_count": 25,
   "metadata": {},
   "outputs": [
    {
     "name": "stdout",
     "output_type": "stream",
     "text": [
      "Accuracy: 0.49\n",
      "Classification Report:\n",
      "              precision    recall  f1-score   support\n",
      "\n",
      "           0       0.49      0.77      0.60       198\n",
      "           1       0.49      0.22      0.30       202\n",
      "\n",
      "    accuracy                           0.49       400\n",
      "   macro avg       0.49      0.49      0.45       400\n",
      "weighted avg       0.49      0.49      0.45       400\n",
      "\n"
     ]
    },
    {
     "name": "stderr",
     "output_type": "stream",
     "text": [
      "c:\\Users\\ioust\\Desktop\\ml\\ml\\Lib\\site-packages\\xgboost\\core.py:158: UserWarning: [10:34:23] WARNING: C:\\buildkite-agent\\builds\\buildkite-windows-cpu-autoscaling-group-i-0c55ff5f71b100e98-1\\xgboost\\xgboost-ci-windows\\src\\learner.cc:740: \n",
      "Parameters: { \"use_label_encoder\" } are not used.\n",
      "\n",
      "  warnings.warn(smsg, UserWarning)\n"
     ]
    }
   ],
   "source": [
    "# Even though KNN was chosen as victorious algorithm just out of interest XGBOOSt will also be trained and tested. It has even lower accuracy than KNN.\n",
    "\n",
    "from xgboost import XGBClassifier\n",
    "from sklearn.model_selection import train_test_split\n",
    "from sklearn.metrics import accuracy_score, classification_report\n",
    "\n",
    "\n",
    "\n",
    "\n",
    "\n",
    "model = XGBClassifier(\n",
    "    use_label_encoder=False,\n",
    "    eval_metric='logloss',\n",
    "    random_state=7,\n",
    "    colsample_bytree=1,   \n",
    "    learning_rate=0.1,     \n",
    "    max_depth=5,            \n",
    "    n_estimators=100,       \n",
    "    subsample=1       \n",
    ")\n",
    "\n",
    "\n",
    "\n",
    "\n",
    "model.fit(X_train, y_train)\n",
    "\n",
    "y_pred = model.predict(X_test)\n",
    "\n",
    "\n",
    "accuracy = accuracy_score(y_test, y_pred)\n",
    "print(f\"Accuracy: {accuracy:.2f}\")\n",
    "print(\"Classification Report:\")\n",
    "print(classification_report(y_test, y_pred))"
   ]
  },
  {
   "cell_type": "code",
   "execution_count": 26,
   "metadata": {},
   "outputs": [],
   "source": [
    "columns_to_encode = ['Gender', 'Location', 'Device', 'Interest_Category']\n",
    "\n",
    "\n",
    "en_df = pd.get_dummies(train_data, columns=columns_to_encode,dtype=int)"
   ]
  },
  {
   "cell_type": "code",
   "execution_count": 27,
   "metadata": {},
   "outputs": [],
   "source": [
    "column_to_move = 'Click'\n",
    "en_df= en_df[[col for col in en_df if col != column_to_move] + [column_to_move]]"
   ]
  },
  {
   "cell_type": "code",
   "execution_count": 28,
   "metadata": {},
   "outputs": [],
   "source": [
    "# The original dataset is copied.\n",
    "en_copy = en_df.copy()\n"
   ]
  },
  {
   "cell_type": "code",
   "execution_count": 29,
   "metadata": {},
   "outputs": [],
   "source": [
    "#I will try to binnarize the age and income to see if feature engineering  can help improve tha accuracy of the models\n",
    "\n",
    "bins_age = [18, 35, 50, 65]  \n",
    "labels_age = [\"Young\", \"Middle-Aged\", \"Senior\"]\n",
    "\n",
    "en_copy[\"Age_Group\"] = pd.cut(en_copy[\"Age\"], bins=bins_age, labels=labels_age, include_lowest=True)"
   ]
  },
  {
   "cell_type": "code",
   "execution_count": 30,
   "metadata": {},
   "outputs": [],
   "source": [
    "bins_income = [en_copy[\"Income\"].min(), 40000, 70000, en_copy[\"Income\"].max()]\n",
    "labels_income = [\"Low\", \"Medium\", \"High\"]\n",
    "en_copy[\"Income_Group\"] = pd.cut(en_copy[\"Income\"], bins=bins_income, labels=labels_income, include_lowest=True)"
   ]
  },
  {
   "cell_type": "code",
   "execution_count": 31,
   "metadata": {},
   "outputs": [],
   "source": [
    "columns_to_encode = ['Age_Group', 'Income_Group']\n",
    "\n",
    "\n",
    "en_copy = pd.get_dummies(en_copy, columns=columns_to_encode,dtype=int)"
   ]
  },
  {
   "cell_type": "code",
   "execution_count": 32,
   "metadata": {},
   "outputs": [],
   "source": [
    "column_to_move = 'Click'\n",
    "en_copy= en_copy[[col for col in en_copy if col != column_to_move] + [column_to_move]]"
   ]
  },
  {
   "cell_type": "code",
   "execution_count": 33,
   "metadata": {},
   "outputs": [],
   "source": [
    "from sklearn.model_selection import KFold\n",
    "from sklearn.model_selection import cross_val_score\n",
    "\n",
    "array = en_copy.values\n",
    "A = array[:,0:22]\n",
    "B = array[:,22]\n",
    "kfold = KFold(n_splits=10,shuffle=True, random_state=7)"
   ]
  },
  {
   "cell_type": "code",
   "execution_count": 34,
   "metadata": {},
   "outputs": [
    {
     "name": "stdout",
     "output_type": "stream",
     "text": [
      "0.48\n"
     ]
    }
   ],
   "source": [
    "from sklearn.linear_model import LogisticRegression\n",
    "results = cross_val_score(LogisticRegression(solver='liblinear'), A, B, cv=kfold)\n",
    "print(results.mean()) "
   ]
  },
  {
   "cell_type": "code",
   "execution_count": 35,
   "metadata": {},
   "outputs": [
    {
     "name": "stdout",
     "output_type": "stream",
     "text": [
      "0.5168750000000001\n"
     ]
    }
   ],
   "source": [
    "\n",
    "from sklearn.neighbors import KNeighborsClassifier\n",
    "results = cross_val_score(KNeighborsClassifier(), A, B, cv=kfold)\n",
    "print(results.mean())"
   ]
  },
  {
   "cell_type": "code",
   "execution_count": 36,
   "metadata": {},
   "outputs": [
    {
     "name": "stdout",
     "output_type": "stream",
     "text": [
      "0.48125\n"
     ]
    }
   ],
   "source": [
    "from sklearn.naive_bayes import GaussianNB\n",
    "results = cross_val_score(GaussianNB(), A, B, cv=kfold)\n",
    "print(results.mean())"
   ]
  },
  {
   "cell_type": "code",
   "execution_count": 37,
   "metadata": {},
   "outputs": [
    {
     "name": "stdout",
     "output_type": "stream",
     "text": [
      "0.49874999999999997\n"
     ]
    }
   ],
   "source": [
    "from sklearn.ensemble import RandomForestClassifier\n",
    "from sklearn.model_selection import cross_val_score\n",
    "\n",
    "\n",
    "rf_model = RandomForestClassifier(random_state=7)  \n",
    "results = cross_val_score(rf_model, A, B, cv=kfold)  \n",
    "print(results.mean())"
   ]
  },
  {
   "cell_type": "code",
   "execution_count": 38,
   "metadata": {},
   "outputs": [
    {
     "name": "stderr",
     "output_type": "stream",
     "text": [
      "c:\\Users\\ioust\\Desktop\\ml\\ml\\Lib\\site-packages\\xgboost\\core.py:158: UserWarning: [10:35:48] WARNING: C:\\buildkite-agent\\builds\\buildkite-windows-cpu-autoscaling-group-i-0c55ff5f71b100e98-1\\xgboost\\xgboost-ci-windows\\src\\learner.cc:740: \n",
      "Parameters: { \"use_label_encoder\" } are not used.\n",
      "\n",
      "  warnings.warn(smsg, UserWarning)\n",
      "c:\\Users\\ioust\\Desktop\\ml\\ml\\Lib\\site-packages\\xgboost\\core.py:158: UserWarning: [10:35:48] WARNING: C:\\buildkite-agent\\builds\\buildkite-windows-cpu-autoscaling-group-i-0c55ff5f71b100e98-1\\xgboost\\xgboost-ci-windows\\src\\learner.cc:740: \n",
      "Parameters: { \"use_label_encoder\" } are not used.\n",
      "\n",
      "  warnings.warn(smsg, UserWarning)\n",
      "c:\\Users\\ioust\\Desktop\\ml\\ml\\Lib\\site-packages\\xgboost\\core.py:158: UserWarning: [10:35:48] WARNING: C:\\buildkite-agent\\builds\\buildkite-windows-cpu-autoscaling-group-i-0c55ff5f71b100e98-1\\xgboost\\xgboost-ci-windows\\src\\learner.cc:740: \n",
      "Parameters: { \"use_label_encoder\" } are not used.\n",
      "\n",
      "  warnings.warn(smsg, UserWarning)\n",
      "c:\\Users\\ioust\\Desktop\\ml\\ml\\Lib\\site-packages\\xgboost\\core.py:158: UserWarning: [10:35:48] WARNING: C:\\buildkite-agent\\builds\\buildkite-windows-cpu-autoscaling-group-i-0c55ff5f71b100e98-1\\xgboost\\xgboost-ci-windows\\src\\learner.cc:740: \n",
      "Parameters: { \"use_label_encoder\" } are not used.\n",
      "\n",
      "  warnings.warn(smsg, UserWarning)\n",
      "c:\\Users\\ioust\\Desktop\\ml\\ml\\Lib\\site-packages\\xgboost\\core.py:158: UserWarning: [10:35:48] WARNING: C:\\buildkite-agent\\builds\\buildkite-windows-cpu-autoscaling-group-i-0c55ff5f71b100e98-1\\xgboost\\xgboost-ci-windows\\src\\learner.cc:740: \n",
      "Parameters: { \"use_label_encoder\" } are not used.\n",
      "\n",
      "  warnings.warn(smsg, UserWarning)\n",
      "c:\\Users\\ioust\\Desktop\\ml\\ml\\Lib\\site-packages\\xgboost\\core.py:158: UserWarning: [10:35:48] WARNING: C:\\buildkite-agent\\builds\\buildkite-windows-cpu-autoscaling-group-i-0c55ff5f71b100e98-1\\xgboost\\xgboost-ci-windows\\src\\learner.cc:740: \n",
      "Parameters: { \"use_label_encoder\" } are not used.\n",
      "\n",
      "  warnings.warn(smsg, UserWarning)\n",
      "c:\\Users\\ioust\\Desktop\\ml\\ml\\Lib\\site-packages\\xgboost\\core.py:158: UserWarning: [10:35:49] WARNING: C:\\buildkite-agent\\builds\\buildkite-windows-cpu-autoscaling-group-i-0c55ff5f71b100e98-1\\xgboost\\xgboost-ci-windows\\src\\learner.cc:740: \n",
      "Parameters: { \"use_label_encoder\" } are not used.\n",
      "\n",
      "  warnings.warn(smsg, UserWarning)\n",
      "c:\\Users\\ioust\\Desktop\\ml\\ml\\Lib\\site-packages\\xgboost\\core.py:158: UserWarning: [10:35:49] WARNING: C:\\buildkite-agent\\builds\\buildkite-windows-cpu-autoscaling-group-i-0c55ff5f71b100e98-1\\xgboost\\xgboost-ci-windows\\src\\learner.cc:740: \n",
      "Parameters: { \"use_label_encoder\" } are not used.\n",
      "\n",
      "  warnings.warn(smsg, UserWarning)\n"
     ]
    },
    {
     "name": "stdout",
     "output_type": "stream",
     "text": [
      "Mean Cross-Validation Accuracy: 0.49624999999999997\n"
     ]
    },
    {
     "name": "stderr",
     "output_type": "stream",
     "text": [
      "c:\\Users\\ioust\\Desktop\\ml\\ml\\Lib\\site-packages\\xgboost\\core.py:158: UserWarning: [10:35:49] WARNING: C:\\buildkite-agent\\builds\\buildkite-windows-cpu-autoscaling-group-i-0c55ff5f71b100e98-1\\xgboost\\xgboost-ci-windows\\src\\learner.cc:740: \n",
      "Parameters: { \"use_label_encoder\" } are not used.\n",
      "\n",
      "  warnings.warn(smsg, UserWarning)\n",
      "c:\\Users\\ioust\\Desktop\\ml\\ml\\Lib\\site-packages\\xgboost\\core.py:158: UserWarning: [10:35:49] WARNING: C:\\buildkite-agent\\builds\\buildkite-windows-cpu-autoscaling-group-i-0c55ff5f71b100e98-1\\xgboost\\xgboost-ci-windows\\src\\learner.cc:740: \n",
      "Parameters: { \"use_label_encoder\" } are not used.\n",
      "\n",
      "  warnings.warn(smsg, UserWarning)\n"
     ]
    }
   ],
   "source": [
    "from xgboost import XGBClassifier\n",
    "from sklearn.model_selection import cross_val_score\n",
    "\n",
    "\n",
    "xgb = XGBClassifier(use_label_encoder=False, eval_metric='logloss', random_state=7)\n",
    "\n",
    "results = cross_val_score(xgb, A, B, cv=kfold, scoring='accuracy')\n",
    "\n",
    "\n",
    "print(\"Mean Cross-Validation Accuracy:\", results.mean())"
   ]
  },
  {
   "cell_type": "code",
   "execution_count": 39,
   "metadata": {},
   "outputs": [
    {
     "name": "stdout",
     "output_type": "stream",
     "text": [
      "0.488125\n"
     ]
    }
   ],
   "source": [
    "\n",
    "from sklearn.tree import DecisionTreeClassifier\n",
    "results = cross_val_score(DecisionTreeClassifier(), A, B, cv=kfold)\n",
    "print(results.mean())"
   ]
  },
  {
   "cell_type": "code",
   "execution_count": 40,
   "metadata": {},
   "outputs": [
    {
     "name": "stdout",
     "output_type": "stream",
     "text": [
      "0.48250000000000004\n"
     ]
    }
   ],
   "source": [
    "from sklearn.svm import SVC\n",
    "from sklearn.model_selection import cross_val_score\n",
    "svm_model = SVC() \n",
    "results = cross_val_score(svm_model, A, B, cv=kfold) \n",
    "print(results.mean())"
   ]
  },
  {
   "cell_type": "code",
   "execution_count": 311,
   "metadata": {},
   "outputs": [],
   "source": [
    "# As a result we see that even feature engineering is not heplful. More attributes are needed for the model to understand how to seperate the classes.\n",
    "# If the  domain expert (the one that created the dataset) could have provided more features the algorithms may have better chances to improve. For example \n",
    "# an attribute such  the time of the day a user entered the site could maybe improve the algorithms."
   ]
  },
  {
   "cell_type": "code",
   "execution_count": 312,
   "metadata": {},
   "outputs": [],
   "source": [
    "columns_to_encode = ['Gender', 'Location', 'Device', 'Interest_Category']\n",
    "\n",
    "\n",
    "en_df = pd.get_dummies(df, columns=columns_to_encode,dtype=int)"
   ]
  },
  {
   "cell_type": "code",
   "execution_count": 313,
   "metadata": {},
   "outputs": [],
   "source": [
    "column_to_move = 'Click'\n",
    "en_df= en_df[[col for col in en_df if col != column_to_move] + [column_to_move]]"
   ]
  },
  {
   "cell_type": "code",
   "execution_count": 314,
   "metadata": {},
   "outputs": [
    {
     "name": "stdout",
     "output_type": "stream",
     "text": [
      "The best number of clusters (K) is: 2\n",
      "Silhouette Score for K=2: 0.6294\n"
     ]
    }
   ],
   "source": [
    "# Now we will procced with clustering. Its going to be performed to understand better the customer seggmrntation.I want to understand what spesific \n",
    "# group of people will click or not click on an add.Its unsupervised learning so no label will be used, i will treat the attribute Click as an ordinary attribute and there is no train and test dividing.\n",
    "# I have to make it clear that i dont want ot predict the click , want to see possible customer segmentation.\n",
    "#  This type of data i believe is very good and infromative to perform clustering. We can easily understnd the caracteristics of each customer group.\n",
    "# K means will be implemneted and tested with sillhoutte score and davies bouldin to find the best number of clusters.\n",
    "#  K mean sets the means at first time randomly and calculates the distance of the datapionts to each of the  means. After the clusters are formed new means\n",
    "# are calculated and again we need  to categorize the datapoints. The procedure stops when the means dont change any more.\n",
    "# Silhouette is comparison between average in-cluster distance and average distance to other clusters. The closer it is to 1 the better number of \n",
    "# clusters choosen. It measures how well each data point fits within its assigned cluster and how well-separated it is from other clusters.\n",
    "# The best number of clusters (K) is: 2  Silhouette Score for K=2: 0.6294 a pretty satisfying score.\n",
    "\n",
    "from sklearn.cluster import KMeans\n",
    "from sklearn.metrics import silhouette_score\n",
    "\n",
    "\n",
    "k_range = range(2, 10)  \n",
    "\n",
    "sil_scores = []\n",
    "best_k = None\n",
    "best_score = -1\n",
    "\n",
    "\n",
    "for k in k_range:\n",
    "    kmeans = KMeans(n_clusters=k, random_state=7)\n",
    "    kmeans.fit(en_df)  \n",
    "    score = silhouette_score(en_df, kmeans.labels_)\n",
    "    sil_scores.append(score)\n",
    "    \n",
    "    \n",
    "    if score > best_score:\n",
    "        best_score = score\n",
    "        best_k = k\n",
    "\n",
    "\n",
    "print(f\"The best number of clusters (K) is: {best_k}\")\n",
    "print(f\"Silhouette Score for K={best_k}: {best_score:.4f}\")"
   ]
  },
  {
   "cell_type": "code",
   "execution_count": 317,
   "metadata": {},
   "outputs": [
    {
     "name": "stdout",
     "output_type": "stream",
     "text": [
      "The best number of clusters (K) based on Davies-Bouldin Score is: 9\n",
      "Davies-Bouldin Score for K=9: 0.4900\n"
     ]
    }
   ],
   "source": [
    "# Davies Bouldin score  is defined as the average similarity measure of each cluster with its most similar cluster, \n",
    "# where similarity is the ratio of within-cluster distances to between-cluster distances. \n",
    "# Thus, clusters which are farther apart and less dispersed will result in a better score. \n",
    "# The minimum score is zero, with lower values indicating better clustering.\n",
    "# The best number of clusters (K) based on Davies-Bouldin Score is: 9 Davies-Bouldin Score for K=9: 0.4900  a satisfying score .\n",
    "from sklearn.cluster import KMeans\n",
    "from sklearn.metrics import davies_bouldin_score\n",
    "\n",
    "\n",
    "k_range = range(2, 10)  \n",
    "\n",
    "db_scores = []\n",
    "best_k_db = None\n",
    "best_db_score = float('inf')  \n",
    "\n",
    "\n",
    "for k in k_range:\n",
    "    kmeans = KMeans(n_clusters=k, random_state=7)\n",
    "    kmeans.fit(en_df)  \n",
    "    \n",
    "     \n",
    "    db_score = davies_bouldin_score(en_df, kmeans.labels_)\n",
    "    db_scores.append(db_score)\n",
    "    \n",
    "    \n",
    "    if db_score < best_db_score:\n",
    "        best_db_score = db_score\n",
    "        best_k_db = k\n",
    "\n",
    "\n",
    "print(f\"The best number of clusters (K) based on Davies-Bouldin Score is: {best_k_db}\")\n",
    "print(f\"Davies-Bouldin Score for K={best_k_db}: {best_db_score:.4f}\")"
   ]
  },
  {
   "cell_type": "code",
   "execution_count": 316,
   "metadata": {},
   "outputs": [],
   "source": [
    "from sklearn.preprocessing import MinMaxScaler\n",
    "\n",
    "\n",
    "scaler = MinMaxScaler(feature_range=(0, 1))\n",
    "rescaledX = scaler.fit_transform(en_df)\n"
   ]
  },
  {
   "cell_type": "code",
   "execution_count": 318,
   "metadata": {},
   "outputs": [
    {
     "name": "stdout",
     "output_type": "stream",
     "text": [
      "The best number of clusters (K) based on Davies-Bouldin Score is: 4\n",
      "Davies-Bouldin Score for K=4: 1.9621\n"
     ]
    }
   ],
   "source": [
    "# Min max scaler will be perforemd to see if maybe the results can be improved since the K means measures the distance between the datapoints\n",
    "#  Davies-Bouldin Score for K=4: 1.9621 worsened.\n",
    "\n",
    "from sklearn.cluster import KMeans\n",
    "from sklearn.metrics import davies_bouldin_score\n",
    "\n",
    "\n",
    "k_range = range(2, 10)  \n",
    "\n",
    "db_scores = []\n",
    "best_k_db = None\n",
    "best_db_score = float('inf')  \n",
    "\n",
    "\n",
    "for k in k_range:\n",
    "    kmeans = KMeans(n_clusters=k, random_state=7)\n",
    "    kmeans.fit(rescaledX)  \n",
    "    \n",
    "    \n",
    "    db_score = davies_bouldin_score(rescaledX, kmeans.labels_)\n",
    "    db_scores.append(db_score)\n",
    "    \n",
    "    \n",
    "    if db_score < best_db_score:\n",
    "        best_db_score = db_score\n",
    "        best_k_db = k\n",
    "\n",
    "\n",
    "print(f\"The best number of clusters (K) based on Davies-Bouldin Score is: {best_k_db}\")\n",
    "print(f\"Davies-Bouldin Score for K={best_k_db}: {best_db_score:.4f}\")"
   ]
  },
  {
   "cell_type": "code",
   "execution_count": 319,
   "metadata": {},
   "outputs": [
    {
     "name": "stdout",
     "output_type": "stream",
     "text": [
      "The best number of clusters (K) is: 7\n",
      "Silhouette Score for K=7: 0.1640\n"
     ]
    }
   ],
   "source": [
    "#Silhouette Score for K=7: 0.1640 worsened.\n",
    "\n",
    "from sklearn.cluster import KMeans\n",
    "from sklearn.metrics import silhouette_score\n",
    "\n",
    "\n",
    "k_range = range(2, 11)  \n",
    "\n",
    "sil_scores = []\n",
    "best_k = None\n",
    "best_score = -1\n",
    "\n",
    "\n",
    "for k in k_range:\n",
    "    kmeans = KMeans(n_clusters=k, random_state=7)\n",
    "    kmeans.fit(rescaledX)  \n",
    "    score = silhouette_score(rescaledX, kmeans.labels_)\n",
    "    sil_scores.append(score)\n",
    "    \n",
    "   \n",
    "    if score > best_score:\n",
    "        best_score = score\n",
    "        best_k = k\n",
    "\n",
    "\n",
    "print(f\"The best number of clusters (K) is: {best_k}\")\n",
    "print(f\"Silhouette Score for K={best_k}: {best_score:.4f}\")"
   ]
  },
  {
   "cell_type": "code",
   "execution_count": 320,
   "metadata": {},
   "outputs": [],
   "source": [
    "#Standart scaler will aslo be perforemd to see if we can impove clustering.\n",
    "\n",
    "from sklearn.preprocessing import StandardScaler\n",
    "scaler = StandardScaler().fit(en_df)\n",
    "resX = scaler.transform(en_df)"
   ]
  },
  {
   "cell_type": "code",
   "execution_count": 321,
   "metadata": {},
   "outputs": [
    {
     "name": "stdout",
     "output_type": "stream",
     "text": [
      "The best number of clusters (K) is: 9\n",
      "Silhouette Score for K=9: 0.1333\n"
     ]
    }
   ],
   "source": [
    "#Silhouette Score for K=9: 0.133  worsened\n",
    "\n",
    "from sklearn.cluster import KMeans\n",
    "from sklearn.metrics import silhouette_score\n",
    "\n",
    "\n",
    "k_range = range(2, 11)  \n",
    "\n",
    "sil_scores = []\n",
    "best_k = None\n",
    "best_score = -1\n",
    "\n",
    "\n",
    "for k in k_range:\n",
    "    kmeans = KMeans(n_clusters=k, random_state=7)\n",
    "    kmeans.fit(resX)  \n",
    "    score = silhouette_score(resX, kmeans.labels_)\n",
    "    sil_scores.append(score)\n",
    "    \n",
    "    \n",
    "    if score > best_score:\n",
    "        best_score = score\n",
    "        best_k = k\n",
    "\n",
    "\n",
    "print(f\"The best number of clusters (K) is: {best_k}\")\n",
    "print(f\"Silhouette Score for K={best_k}: {best_score:.4f}\")"
   ]
  },
  {
   "cell_type": "code",
   "execution_count": 322,
   "metadata": {},
   "outputs": [
    {
     "name": "stdout",
     "output_type": "stream",
     "text": [
      "The best number of clusters (K) based on Davies-Bouldin Score is: 9\n",
      "Davies-Bouldin Score for K=9: 2.1522\n"
     ]
    }
   ],
   "source": [
    "# Davies-Bouldin Score for K=9: 2.1522 very bad score the DBI should be close to 0.\n",
    "\n",
    "\n",
    "from sklearn.cluster import KMeans\n",
    "from sklearn.metrics import davies_bouldin_score\n",
    "\n",
    "\n",
    "k_range = range(2, 10)  \n",
    "\n",
    "db_scores = []\n",
    "best_k_db = None\n",
    "best_db_score = float('inf')  \n",
    "\n",
    "\n",
    "for k in k_range:\n",
    "    kmeans = KMeans(n_clusters=k, random_state=7)\n",
    "    kmeans.fit(resX)  \n",
    "    \n",
    "  \n",
    "    db_score = davies_bouldin_score(resX, kmeans.labels_)\n",
    "    db_scores.append(db_score)\n",
    "    \n",
    "    \n",
    "    if db_score < best_db_score:\n",
    "        best_db_score = db_score\n",
    "        best_k_db = k\n",
    "\n",
    "\n",
    "print(f\"The best number of clusters (K) based on Davies-Bouldin Score is: {best_k_db}\")\n",
    "print(f\"Davies-Bouldin Score for K={best_k_db}: {best_db_score:.4f}\")\n"
   ]
  },
  {
   "cell_type": "code",
   "execution_count": 323,
   "metadata": {},
   "outputs": [],
   "source": [
    "\n",
    "from sklearn.preprocessing import Normalizer\n",
    "scaler = Normalizer().fit(en_df)\n",
    "normalizedX = scaler.transform(en_df)"
   ]
  },
  {
   "cell_type": "code",
   "execution_count": 324,
   "metadata": {},
   "outputs": [
    {
     "name": "stdout",
     "output_type": "stream",
     "text": [
      "The best number of clusters (K) is: 2\n",
      "Silhouette Score for K=2: 0.5533\n"
     ]
    }
   ],
   "source": [
    "# Normalization will also be perforemd.\n",
    "#Silhouette Score for K=2: 0.5533  and good score but not perfect.\n",
    "\n",
    "\n",
    "\n",
    "from sklearn.cluster import KMeans\n",
    "from sklearn.metrics import silhouette_score\n",
    "\n",
    "\n",
    "k_range = range(2, 11)  \n",
    "\n",
    "sil_scores = []\n",
    "best_k = None\n",
    "best_score = -1\n",
    "\n",
    "\n",
    "for k in k_range:\n",
    "    kmeans = KMeans(n_clusters=k, random_state=7)\n",
    "    kmeans.fit(normalizedX)  \n",
    "    score = silhouette_score(normalizedX, kmeans.labels_)\n",
    "    sil_scores.append(score)\n",
    "    \n",
    "    \n",
    "    if score > best_score:\n",
    "        best_score = score\n",
    "        best_k = k\n",
    "\n",
    "\n",
    "print(f\"The best number of clusters (K) is: {best_k}\")\n",
    "print(f\"Silhouette Score for K={best_k}: {best_score:.4f}\")"
   ]
  },
  {
   "cell_type": "code",
   "execution_count": 325,
   "metadata": {},
   "outputs": [
    {
     "name": "stdout",
     "output_type": "stream",
     "text": [
      "The best number of clusters (K) based on Davies-Bouldin Score is: 2\n",
      "Davies-Bouldin Score for K=2: 0.7360\n"
     ]
    }
   ],
   "source": [
    "#Davies-Bouldin Score for K=2: 0.7360 a not so good score.\n",
    "\n",
    "from sklearn.cluster import KMeans\n",
    "from sklearn.metrics import davies_bouldin_score\n",
    "\n",
    "\n",
    "k_range = range(2, 10)\n",
    "\n",
    "db_scores = []\n",
    "best_k_db = None\n",
    "best_db_score = float('inf')  \n",
    "\n",
    "\n",
    "for k in k_range:\n",
    "    kmeans = KMeans(n_clusters=k, random_state=7)\n",
    "    kmeans.fit(normalizedX)  \n",
    "    \n",
    "    \n",
    "    db_score = davies_bouldin_score(normalizedX, kmeans.labels_)\n",
    "    db_scores.append(db_score)\n",
    "    \n",
    "    \n",
    "    if db_score < best_db_score:\n",
    "        best_db_score = db_score\n",
    "        best_k_db = k\n",
    "\n",
    "\n",
    "print(f\"The best number of clusters (K) based on Davies-Bouldin Score is: {best_k_db}\")\n",
    "print(f\"Davies-Bouldin Score for K={best_k_db}: {best_db_score:.4f}\")"
   ]
  },
  {
   "cell_type": "code",
   "execution_count": 326,
   "metadata": {},
   "outputs": [
    {
     "name": "stdout",
     "output_type": "stream",
     "text": [
      "Silhouette Score for k=2: 0.6294\n",
      "\n",
      "Cluster Centroids:\n",
      "[[4.12017544e+01 4.01840380e+04 6.14431745e+01 1.05263158e+01\n",
      "  4.98050682e-01 5.01949318e-01 3.22612086e-01 3.54775828e-01\n",
      "  3.22612086e-01 3.16764133e-01 3.40155945e-01 3.43079922e-01\n",
      "  2.28070175e-01 2.53411306e-01 2.75828460e-01 2.42690058e-01\n",
      "  5.14619883e-01]\n",
      " [4.14373717e+01 8.01613285e+04 6.07658431e+01 1.01057495e+01\n",
      "  5.16427105e-01 4.83572895e-01 3.30595483e-01 3.32648871e-01\n",
      "  3.36755647e-01 3.24435318e-01 3.48049281e-01 3.27515400e-01\n",
      "  2.40246407e-01 2.41273101e-01 2.80287474e-01 2.38193018e-01\n",
      "  4.78439425e-01]]\n"
     ]
    }
   ],
   "source": [
    "# I will test both 2 clusters and 9. Even though i already suspect that the best one is 9 because it  will be more informative.\n",
    "\n",
    "import pandas as pd\n",
    "from sklearn.cluster import KMeans\n",
    "from sklearn.metrics import silhouette_score\n",
    "\n",
    "\n",
    "kmeans = KMeans(n_clusters=2, random_state=7)\n",
    "kmeans.fit(en_df)  \n",
    "\n",
    "\n",
    "silhouette_avg = silhouette_score(en_df, kmeans.labels_)\n",
    "print(f\"Silhouette Score for k=2: {silhouette_avg:.4f}\")\n",
    "\n",
    "\n",
    "en_df['Cluster'] = kmeans.labels_\n",
    "\n",
    "\n",
    "centroids = kmeans.cluster_centers_\n",
    "print(\"\\nCluster Centroids:\")\n",
    "print(centroids)"
   ]
  },
  {
   "cell_type": "code",
   "execution_count": 327,
   "metadata": {},
   "outputs": [
    {
     "name": "stdout",
     "output_type": "stream",
     "text": [
      "\n",
      "Profile for Cluster 0:\n",
      "- Age is HIGH (mean: 56.00)\n",
      "- Income is HIGH (mean: 99003.00)\n",
      "- Time_Spent_on_Site is HIGH (mean: 81.98)\n",
      "- Number_of_Pages_Viewed is LOW (mean: 7.00)\n",
      "- Gender_Female is LOW (mean: 0.00)\n",
      "- Gender_Male is HIGH (mean: 1.00)\n",
      "- Location_Rural is HIGH (mean: 1.00)\n",
      "- Location_Suburban is LOW (mean: 0.00)\n",
      "- Location_Urban is LOW (mean: 0.00)\n",
      "- Device_Desktop is LOW (mean: 0.00)\n",
      "- Device_Mobile is HIGH (mean: 1.00)\n",
      "- Device_Tablet is LOW (mean: 0.00)\n",
      "- Interest_Category_Fashion is LOW (mean: 0.00)\n",
      "- Interest_Category_Sports is HIGH (mean: 1.00)\n",
      "- Interest_Category_Technology is LOW (mean: 0.00)\n",
      "- Interest_Category_Travel is LOW (mean: 0.00)\n",
      "- Click is LOW (mean: 0.00)\n",
      "- Cluster is HIGH (mean: 1.00)\n",
      "\n",
      "Profile for Cluster 1:\n",
      "- Age is HIGH (mean: 46.00)\n",
      "- Income is HIGH (mean: 72395.00)\n",
      "- Time_Spent_on_Site is LOW (mean: 59.85)\n",
      "- Number_of_Pages_Viewed is LOW (mean: 3.00)\n",
      "- Gender_Female is LOW (mean: 0.00)\n",
      "- Gender_Male is HIGH (mean: 1.00)\n",
      "- Location_Rural is LOW (mean: 0.00)\n",
      "- Location_Suburban is HIGH (mean: 1.00)\n",
      "- Location_Urban is LOW (mean: 0.00)\n",
      "- Device_Desktop is LOW (mean: 0.00)\n",
      "- Device_Mobile is LOW (mean: 0.00)\n",
      "- Device_Tablet is HIGH (mean: 1.00)\n",
      "- Interest_Category_Fashion is LOW (mean: 0.00)\n",
      "- Interest_Category_Sports is HIGH (mean: 1.00)\n",
      "- Interest_Category_Technology is LOW (mean: 0.00)\n",
      "- Interest_Category_Travel is LOW (mean: 0.00)\n",
      "- Click is HIGH (mean: 1.00)\n",
      "- Cluster is HIGH (mean: 1.00)\n"
     ]
    }
   ],
   "source": [
    "# As suspected the 2 clusters are not informative  for example both clusters  on average are male and the are interested in sports and in cluster\n",
    " # 0 they do not click on the advertisement but in cluster 1 they do. Sadly that is not useful, so 9 cluster will be implemented.\n",
    "\n",
    "def descriptive_prof(en_df, cluster_id):\n",
    "    profile = []\n",
    "    \n",
    "    for feature in en_df.columns:\n",
    "        mean_value = en_df[feature][cluster_id]\n",
    "        \n",
    "        \n",
    "        \n",
    "        if mean_value > en_df[feature].mean():\n",
    "                profile.append(f\"{feature} is HIGH (mean: {mean_value:.2f})\")\n",
    "        else:\n",
    "                profile.append(f\"{feature} is LOW (mean: {mean_value:.2f})\")\n",
    "    \n",
    "    return profile\n",
    "\n",
    "\n",
    "descriptive_profiles = {}\n",
    "\n",
    "for cluster_id in [0,1 ]:\n",
    "    descriptive_profiles[f\"Cluster {cluster_id}\"] = descriptive_prof(en_df, cluster_id)\n",
    "\n",
    "\n",
    "\n",
    "for cluster, profile in descriptive_profiles.items():\n",
    "    print(f\"\\nProfile for {cluster}:\")\n",
    "    for feature_profile in profile:\n",
    "        print(f\"- {feature_profile}\")"
   ]
  },
  {
   "cell_type": "code",
   "execution_count": 328,
   "metadata": {},
   "outputs": [],
   "source": [
    "columns_to_encode = ['Gender', 'Location', 'Device', 'Interest_Category']\n",
    "\n",
    "\n",
    "en_df = pd.get_dummies(df, columns=columns_to_encode,dtype=int)\n",
    "column_to_move = 'Click'\n",
    "en_df= en_df[[col for col in en_df if col != column_to_move] + [column_to_move]]\n"
   ]
  },
  {
   "cell_type": "code",
   "execution_count": 329,
   "metadata": {},
   "outputs": [
    {
     "name": "stdout",
     "output_type": "stream",
     "text": [
      "davies Score for k=9: 0.4900\n",
      "\n",
      "Cluster Centroids:\n",
      "[[4.16697674e+01 4.84906977e+04 6.34484830e+01 1.04325581e+01\n",
      "  4.93023256e-01 5.06976744e-01 3.25581395e-01 3.39534884e-01\n",
      "  3.34883721e-01 3.67441860e-01 3.34883721e-01 2.97674419e-01\n",
      "  2.37209302e-01 2.13953488e-01 2.83720930e-01 2.65116279e-01\n",
      "  4.74418605e-01]\n",
      " [4.05350877e+01 7.56891491e+04 6.55567679e+01 1.00131579e+01\n",
      "  5.48245614e-01 4.51754386e-01 3.50877193e-01 3.28947368e-01\n",
      "  3.20175439e-01 3.42105263e-01 3.20175439e-01 3.37719298e-01\n",
      "  2.54385965e-01 2.10526316e-01 2.98245614e-01 2.36842105e-01\n",
      "  4.42982456e-01]\n",
      " [4.04642857e+01 2.38337500e+04 6.16027934e+01 1.03316327e+01\n",
      "  4.94897959e-01 5.05102041e-01 3.57142857e-01 3.46938776e-01\n",
      "  2.95918367e-01 3.57142857e-01 3.11224490e-01 3.31632653e-01\n",
      "  2.29591837e-01 2.50000000e-01 2.60204082e-01 2.60204082e-01\n",
      "  4.79591837e-01]\n",
      " [4.20735931e+01 9.56408312e+04 5.83831154e+01 1.03203463e+01\n",
      "  5.28138528e-01 4.71861472e-01 3.07359307e-01 3.37662338e-01\n",
      "  3.54978355e-01 3.29004329e-01 3.41991342e-01 3.29004329e-01\n",
      "  1.99134199e-01 2.55411255e-01 2.90043290e-01 2.55411255e-01\n",
      "  4.76190476e-01]\n",
      " [4.33170732e+01 6.61558008e+04 6.01619508e+01 1.00934959e+01\n",
      "  4.87804878e-01 5.12195122e-01 3.37398374e-01 3.37398374e-01\n",
      "  3.25203252e-01 3.41463415e-01 3.57723577e-01 3.00813008e-01\n",
      "  2.35772358e-01 2.47967480e-01 2.72357724e-01 2.43902439e-01\n",
      "  4.75609756e-01]\n",
      " [4.08632075e+01 5.67431604e+04 6.22018330e+01 1.02405660e+01\n",
      "  5.18867925e-01 4.81132075e-01 2.83018868e-01 3.63207547e-01\n",
      "  3.53773585e-01 2.97169811e-01 3.58490566e-01 3.44339623e-01\n",
      "  2.35849057e-01 3.06603774e-01 2.21698113e-01 2.35849057e-01\n",
      "  5.56603774e-01]\n",
      " [4.15431034e+01 4.02640560e+04 6.05324076e+01 1.06422414e+01\n",
      "  5.00000000e-01 5.00000000e-01 2.54310345e-01 4.05172414e-01\n",
      "  3.40517241e-01 2.62931034e-01 3.18965517e-01 4.18103448e-01\n",
      "  2.41379310e-01 2.50000000e-01 2.93103448e-01 2.15517241e-01\n",
      "  5.30172414e-01]\n",
      " [4.10816327e+01 3.20701020e+04 6.07006837e+01 1.08622449e+01\n",
      "  4.79591837e-01 5.20408163e-01 3.87755102e-01 3.16326531e-01\n",
      "  2.95918367e-01 2.95918367e-01 3.87755102e-01 3.16326531e-01\n",
      "  2.14285714e-01 2.50000000e-01 3.06122449e-01 2.29591837e-01\n",
      "  5.45918367e-01]\n",
      " [4.00532787e+01 8.57705164e+04 5.79923485e+01 1.00655738e+01\n",
      "  5.08196721e-01 4.91803279e-01 3.44262295e-01 3.19672131e-01\n",
      "  3.36065574e-01 2.95081967e-01 3.64754098e-01 3.40163934e-01\n",
      "  2.54098361e-01 2.45901639e-01 2.74590164e-01 2.25409836e-01\n",
      "  5.00000000e-01]]\n"
     ]
    }
   ],
   "source": [
    "import pandas as pd\n",
    "from sklearn.cluster import KMeans\n",
    "from sklearn.metrics import davies_bouldin_score\n",
    "\n",
    "kmeans = KMeans(n_clusters=9, random_state=7)\n",
    "kmeans.fit(en_df)  \n",
    "\n",
    "\n",
    "davies = davies_bouldin_score(en_df, kmeans.labels_)\n",
    "print(f\"davies Score for k=9: {davies:.4f}\")\n",
    "\n",
    "\n",
    "en_df['Cluster'] = kmeans.labels_\n",
    "\n",
    "\n",
    "centroids = kmeans.cluster_centers_\n",
    "print(\"\\nCluster Centroids:\")\n",
    "print(centroids)"
   ]
  },
  {
   "cell_type": "code",
   "execution_count": 330,
   "metadata": {},
   "outputs": [
    {
     "data": {
      "text/plain": [
       "Cluster\n",
       "0    215\n",
       "1    230\n",
       "2    196\n",
       "3    232\n",
       "4    245\n",
       "5    211\n",
       "6    232\n",
       "7    196\n",
       "8    243\n",
       "dtype: int64"
      ]
     },
     "execution_count": 330,
     "metadata": {},
     "output_type": "execute_result"
    }
   ],
   "source": [
    "en_df.groupby('Cluster').size()"
   ]
  },
  {
   "cell_type": "code",
   "execution_count": 331,
   "metadata": {},
   "outputs": [
    {
     "name": "stdout",
     "output_type": "stream",
     "text": [
      "\n",
      "Profile for Cluster 0:\n",
      "- Age is HIGH (mean: 56.00)\n",
      "- Income is HIGH (mean: 99003.00)\n",
      "- Time_Spent_on_Site is HIGH (mean: 81.98)\n",
      "- Number_of_Pages_Viewed is LOW (mean: 7.00)\n",
      "- Gender_Female is LOW (mean: 0.00)\n",
      "- Gender_Male is HIGH (mean: 1.00)\n",
      "- Location_Rural is HIGH (mean: 1.00)\n",
      "- Location_Suburban is LOW (mean: 0.00)\n",
      "- Location_Urban is LOW (mean: 0.00)\n",
      "- Device_Desktop is LOW (mean: 0.00)\n",
      "- Device_Mobile is HIGH (mean: 1.00)\n",
      "- Device_Tablet is LOW (mean: 0.00)\n",
      "- Interest_Category_Fashion is LOW (mean: 0.00)\n",
      "- Interest_Category_Sports is HIGH (mean: 1.00)\n",
      "- Interest_Category_Technology is LOW (mean: 0.00)\n",
      "- Interest_Category_Travel is LOW (mean: 0.00)\n",
      "- Click is LOW (mean: 0.00)\n",
      "- Cluster is LOW (mean: 3.00)\n",
      "\n",
      "Profile for Cluster 1:\n",
      "- Age is HIGH (mean: 46.00)\n",
      "- Income is HIGH (mean: 72395.00)\n",
      "- Time_Spent_on_Site is LOW (mean: 59.85)\n",
      "- Number_of_Pages_Viewed is LOW (mean: 3.00)\n",
      "- Gender_Female is LOW (mean: 0.00)\n",
      "- Gender_Male is HIGH (mean: 1.00)\n",
      "- Location_Rural is LOW (mean: 0.00)\n",
      "- Location_Suburban is HIGH (mean: 1.00)\n",
      "- Location_Urban is LOW (mean: 0.00)\n",
      "- Device_Desktop is LOW (mean: 0.00)\n",
      "- Device_Mobile is LOW (mean: 0.00)\n",
      "- Device_Tablet is HIGH (mean: 1.00)\n",
      "- Interest_Category_Fashion is LOW (mean: 0.00)\n",
      "- Interest_Category_Sports is HIGH (mean: 1.00)\n",
      "- Interest_Category_Technology is LOW (mean: 0.00)\n",
      "- Interest_Category_Travel is LOW (mean: 0.00)\n",
      "- Click is HIGH (mean: 1.00)\n",
      "- Cluster is LOW (mean: 1.00)\n",
      "\n",
      "Profile for Cluster 2:\n",
      "- Age is LOW (mean: 32.00)\n",
      "- Income is HIGH (mean: 59758.00)\n",
      "- Time_Spent_on_Site is HIGH (mean: 78.86)\n",
      "- Number_of_Pages_Viewed is LOW (mean: 2.00)\n",
      "- Gender_Female is LOW (mean: 0.00)\n",
      "- Gender_Male is HIGH (mean: 1.00)\n",
      "- Location_Rural is LOW (mean: 0.00)\n",
      "- Location_Suburban is HIGH (mean: 1.00)\n",
      "- Location_Urban is LOW (mean: 0.00)\n",
      "- Device_Desktop is LOW (mean: 0.00)\n",
      "- Device_Mobile is LOW (mean: 0.00)\n",
      "- Device_Tablet is HIGH (mean: 1.00)\n",
      "- Interest_Category_Fashion is LOW (mean: 0.00)\n",
      "- Interest_Category_Sports is HIGH (mean: 1.00)\n",
      "- Interest_Category_Technology is LOW (mean: 0.00)\n",
      "- Interest_Category_Travel is LOW (mean: 0.00)\n",
      "- Click is LOW (mean: 0.00)\n",
      "- Cluster is HIGH (mean: 5.00)\n",
      "\n",
      "Profile for Cluster 3:\n",
      "- Age is HIGH (mean: 60.00)\n",
      "- Income is HIGH (mean: 74312.00)\n",
      "- Time_Spent_on_Site is LOW (mean: 9.41)\n",
      "- Number_of_Pages_Viewed is LOW (mean: 6.00)\n",
      "- Gender_Female is LOW (mean: 0.00)\n",
      "- Gender_Male is HIGH (mean: 1.00)\n",
      "- Location_Rural is LOW (mean: 0.00)\n",
      "- Location_Suburban is LOW (mean: 0.00)\n",
      "- Location_Urban is HIGH (mean: 1.00)\n",
      "- Device_Desktop is LOW (mean: 0.00)\n",
      "- Device_Mobile is LOW (mean: 0.00)\n",
      "- Device_Tablet is HIGH (mean: 1.00)\n",
      "- Interest_Category_Fashion is LOW (mean: 0.00)\n",
      "- Interest_Category_Sports is LOW (mean: 0.00)\n",
      "- Interest_Category_Technology is HIGH (mean: 1.00)\n",
      "- Interest_Category_Travel is LOW (mean: 0.00)\n",
      "- Click is LOW (mean: 0.00)\n",
      "- Cluster is LOW (mean: 1.00)\n",
      "\n",
      "Profile for Cluster 4:\n",
      "- Age is LOW (mean: 25.00)\n",
      "- Income is HIGH (mean: 88670.00)\n",
      "- Time_Spent_on_Site is HIGH (mean: 76.47)\n",
      "- Number_of_Pages_Viewed is LOW (mean: 9.00)\n",
      "- Gender_Female is HIGH (mean: 1.00)\n",
      "- Gender_Male is LOW (mean: 0.00)\n",
      "- Location_Rural is LOW (mean: 0.00)\n",
      "- Location_Suburban is HIGH (mean: 1.00)\n",
      "- Location_Urban is LOW (mean: 0.00)\n",
      "- Device_Desktop is LOW (mean: 0.00)\n",
      "- Device_Mobile is HIGH (mean: 1.00)\n",
      "- Device_Tablet is LOW (mean: 0.00)\n",
      "- Interest_Category_Fashion is HIGH (mean: 1.00)\n",
      "- Interest_Category_Sports is LOW (mean: 0.00)\n",
      "- Interest_Category_Technology is LOW (mean: 0.00)\n",
      "- Interest_Category_Travel is LOW (mean: 0.00)\n",
      "- Click is LOW (mean: 0.00)\n",
      "- Cluster is HIGH (mean: 8.00)\n",
      "\n",
      "Profile for Cluster 5:\n",
      "- Age is LOW (mean: 38.00)\n",
      "- Income is LOW (mean: 35434.00)\n",
      "- Time_Spent_on_Site is HIGH (mean: 94.46)\n",
      "- Number_of_Pages_Viewed is LOW (mean: 10.00)\n",
      "- Gender_Female is HIGH (mean: 1.00)\n",
      "- Gender_Male is LOW (mean: 0.00)\n",
      "- Location_Rural is HIGH (mean: 1.00)\n",
      "- Location_Suburban is LOW (mean: 0.00)\n",
      "- Location_Urban is LOW (mean: 0.00)\n",
      "- Device_Desktop is LOW (mean: 0.00)\n",
      "- Device_Mobile is LOW (mean: 0.00)\n",
      "- Device_Tablet is HIGH (mean: 1.00)\n",
      "- Interest_Category_Fashion is LOW (mean: 0.00)\n",
      "- Interest_Category_Sports is LOW (mean: 0.00)\n",
      "- Interest_Category_Technology is HIGH (mean: 1.00)\n",
      "- Interest_Category_Travel is LOW (mean: 0.00)\n",
      "- Click is HIGH (mean: 1.00)\n",
      "- Cluster is HIGH (mean: 7.00)\n",
      "\n",
      "Profile for Cluster 6:\n",
      "- Age is HIGH (mean: 56.00)\n",
      "- Income is HIGH (mean: 84047.00)\n",
      "- Time_Spent_on_Site is HIGH (mean: 62.54)\n",
      "- Number_of_Pages_Viewed is LOW (mean: 4.00)\n",
      "- Gender_Female is LOW (mean: 0.00)\n",
      "- Gender_Male is HIGH (mean: 1.00)\n",
      "- Location_Rural is LOW (mean: 0.00)\n",
      "- Location_Suburban is LOW (mean: 0.00)\n",
      "- Location_Urban is HIGH (mean: 1.00)\n",
      "- Device_Desktop is LOW (mean: 0.00)\n",
      "- Device_Mobile is HIGH (mean: 1.00)\n",
      "- Device_Tablet is LOW (mean: 0.00)\n",
      "- Interest_Category_Fashion is LOW (mean: 0.00)\n",
      "- Interest_Category_Sports is HIGH (mean: 1.00)\n",
      "- Interest_Category_Technology is LOW (mean: 0.00)\n",
      "- Interest_Category_Travel is LOW (mean: 0.00)\n",
      "- Click is HIGH (mean: 1.00)\n",
      "- Cluster is HIGH (mean: 8.00)\n",
      "\n",
      "Profile for Cluster 7:\n",
      "- Age is LOW (mean: 36.00)\n",
      "- Income is HIGH (mean: 67775.00)\n",
      "- Time_Spent_on_Site is LOW (mean: 46.11)\n",
      "- Number_of_Pages_Viewed is LOW (mean: 3.00)\n",
      "- Gender_Female is LOW (mean: 0.00)\n",
      "- Gender_Male is HIGH (mean: 1.00)\n",
      "- Location_Rural is HIGH (mean: 1.00)\n",
      "- Location_Suburban is LOW (mean: 0.00)\n",
      "- Location_Urban is LOW (mean: 0.00)\n",
      "- Device_Desktop is LOW (mean: 0.00)\n",
      "- Device_Mobile is HIGH (mean: 1.00)\n",
      "- Device_Tablet is LOW (mean: 0.00)\n",
      "- Interest_Category_Fashion is LOW (mean: 0.00)\n",
      "- Interest_Category_Sports is LOW (mean: 0.00)\n",
      "- Interest_Category_Technology is LOW (mean: 0.00)\n",
      "- Interest_Category_Travel is HIGH (mean: 1.00)\n",
      "- Click is HIGH (mean: 1.00)\n",
      "- Cluster is LOW (mean: 4.00)\n",
      "\n",
      "Profile for Cluster 8:\n",
      "- Age is LOW (mean: 40.00)\n",
      "- Income is HIGH (mean: 95769.00)\n",
      "- Time_Spent_on_Site is LOW (mean: 36.90)\n",
      "- Number_of_Pages_Viewed is LOW (mean: 9.00)\n",
      "- Gender_Female is LOW (mean: 0.00)\n",
      "- Gender_Male is HIGH (mean: 1.00)\n",
      "- Location_Rural is HIGH (mean: 1.00)\n",
      "- Location_Suburban is LOW (mean: 0.00)\n",
      "- Location_Urban is LOW (mean: 0.00)\n",
      "- Device_Desktop is LOW (mean: 0.00)\n",
      "- Device_Mobile is LOW (mean: 0.00)\n",
      "- Device_Tablet is HIGH (mean: 1.00)\n",
      "- Interest_Category_Fashion is LOW (mean: 0.00)\n",
      "- Interest_Category_Sports is LOW (mean: 0.00)\n",
      "- Interest_Category_Technology is HIGH (mean: 1.00)\n",
      "- Interest_Category_Travel is LOW (mean: 0.00)\n",
      "- Click is HIGH (mean: 1.00)\n",
      "- Cluster is LOW (mean: 3.00)\n"
     ]
    }
   ],
   "source": [
    "#Cluster 0 Average : High Age, High Income, High time spend on site, Little pages viewed, Male , Rural , Mobile , Sport     ->     NOT CLICK\n",
    "#Cluster 1 Average : Medium Age, High Income, Little time spend on site, Little pages viewed, Male,Suburban , Tablet, Sport     ->     CLICK\n",
    "#Cluster 2 Average : Medium Age, Medium Income, High time spend on site, Little pages viewed, Male,Suburban , Tablet, Sport ->NOT CLICK\n",
    "#Cluster 3 Average :High Age, High Income, Little time spend on site, Little pages viewed, Male , Urban , Tablet , Technology ->NOT CLICK  \n",
    "#Cluster 4 Average : Young Age, High Income, High time spend on site, Little pages viewed, Female,Suburban , Mobile , Fashion ->NOT CLICK \n",
    "#Cluster 5 Average : Medium Age, Low Income, High time spend on site, Little pages viewed, Female,Rural, Tablet  , Technology ->CLICK  \n",
    "#Cluster 6 Average : High Age, High Income, High time spend on site, Little pages viewed, Male,Urban, Mobile  , Sports-> CLICK \n",
    "#Cluster 7 Average : Medium Age, Medium Income, Little time spend on site, Little pages viewed, Male,Rural , Mobile  , Travel ->  CLICK\n",
    "#Cluster 8 Average : Medium Age, High Income, Little time spend on site, Little pages viewed, Male,Rural , Tablet  , Technology-> CLICK\n",
    "\n",
    "#These are  significant findings we can be sure that on average high and medium age male will click on an adversisement. As \n",
    "# a result sports adverisement should be published on the site. Also man and woman with interest in technology will also click on the adverisement\n",
    "# Obtaining such knowledge gives us the oportunity to contact sport betting bussinesses or technology companies  and convince them to \n",
    "# cooperate and post their advertisement on our site because on average we have customers that will click. \n",
    "# The advertisement should be designed for mobile or tablet because that the devise the customers use.\n",
    "#The advertisement should be designed for customers that have age from 30 years old to approximately 60.\n",
    "#Also on average the customers are from rural areas.\n",
    "#This is how you extract precious knowledge for your bussiness.\n",
    "\n",
    "\n",
    "\n",
    "\n",
    "def descriptive_prof(en_df, cluster_id):\n",
    "    profile = []\n",
    "    \n",
    "    for feature in en_df.columns:\n",
    "        mean_value = en_df[feature][cluster_id]\n",
    "        \n",
    "        \n",
    "        \n",
    "        if mean_value > en_df[feature].mean():\n",
    "                profile.append(f\"{feature} is HIGH (mean: {mean_value:.2f})\")\n",
    "        else:\n",
    "                profile.append(f\"{feature} is LOW (mean: {mean_value:.2f})\")\n",
    "    \n",
    "    return profile\n",
    "\n",
    "\n",
    "descriptive_profiles = {}\n",
    "\n",
    "for cluster_id in [0,1,2,3,4,5,6,7,8 ]:\n",
    "    descriptive_profiles[f\"Cluster {cluster_id}\"] = descriptive_prof(en_df, cluster_id)\n",
    "\n",
    "\n",
    "for cluster, profile in descriptive_profiles.items():\n",
    "    print(f\"\\nProfile for {cluster}:\")\n",
    "    for feature_profile in profile:\n",
    "        print(f\"- {feature_profile}\")"
   ]
  }
 ],
 "metadata": {
  "kernelspec": {
   "display_name": "ml",
   "language": "python",
   "name": "python3"
  },
  "language_info": {
   "codemirror_mode": {
    "name": "ipython",
    "version": 3
   },
   "file_extension": ".py",
   "mimetype": "text/x-python",
   "name": "python",
   "nbconvert_exporter": "python",
   "pygments_lexer": "ipython3",
   "version": "3.13.0"
  }
 },
 "nbformat": 4,
 "nbformat_minor": 2
}
